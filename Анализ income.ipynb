{
 "cells": [
  {
   "cell_type": "code",
   "execution_count": 802,
   "id": "b7ae5670",
   "metadata": {},
   "outputs": [],
   "source": [
    "import pandas as pd\n",
    "import numpy as np\n",
    "import seaborn as sns\n",
    "import scipy.stats as stats\n",
    "from sklearn.ensemble import RandomForestClassifier\n",
    "import matplotlib.pyplot as plt\n",
    "from sklearn.preprocessing import StandardScaler, LabelEncoder\n",
    "from sklearn.svm import SVC\n",
    "from sklearn.metrics import classification_report, roc_auc_score, plot_roc_curve\n",
    "from sklearn.feature_selection import SelectKBest, chi2\n",
    "from sklearn.model_selection import train_test_split, StratifiedKFold, GridSearchCV\n",
    "from sklearn.preprocessing import StandardScaler, OneHotEncoder\n",
    "from sklearn.compose import ColumnTransformer\n",
    "from sklearn.linear_model import LogisticRegression\n",
    "from sklearn.pipeline import Pipeline\n",
    "from sklearn.impute import SimpleImputer\n",
    "from sklearn.svm import LinearSVC\n",
    "from sklearn.feature_selection import SequentialFeatureSelector"
   ]
  },
  {
   "cell_type": "markdown",
   "id": "437d5e1a",
   "metadata": {},
   "source": [
    "### 1. Импортировать набор данных. Обработать выбросы и пропуски."
   ]
  },
  {
   "cell_type": "code",
   "execution_count": 727,
   "id": "546a6105",
   "metadata": {},
   "outputs": [],
   "source": [
    "df = pd.read_csv('adult.csv')  "
   ]
  },
  {
   "cell_type": "code",
   "execution_count": 728,
   "id": "701d4b83",
   "metadata": {},
   "outputs": [
    {
     "data": {
      "text/html": [
       "<div>\n",
       "<style scoped>\n",
       "    .dataframe tbody tr th:only-of-type {\n",
       "        vertical-align: middle;\n",
       "    }\n",
       "\n",
       "    .dataframe tbody tr th {\n",
       "        vertical-align: top;\n",
       "    }\n",
       "\n",
       "    .dataframe thead th {\n",
       "        text-align: right;\n",
       "    }\n",
       "</style>\n",
       "<table border=\"1\" class=\"dataframe\">\n",
       "  <thead>\n",
       "    <tr style=\"text-align: right;\">\n",
       "      <th></th>\n",
       "      <th>age</th>\n",
       "      <th>workclass</th>\n",
       "      <th>fnlwgt</th>\n",
       "      <th>education</th>\n",
       "      <th>education-num</th>\n",
       "      <th>marital-status</th>\n",
       "      <th>occupation</th>\n",
       "      <th>relationship</th>\n",
       "      <th>race</th>\n",
       "      <th>sex</th>\n",
       "      <th>capital-gain</th>\n",
       "      <th>capital-loss</th>\n",
       "      <th>hours-per-week</th>\n",
       "      <th>native-country</th>\n",
       "      <th>income</th>\n",
       "    </tr>\n",
       "  </thead>\n",
       "  <tbody>\n",
       "    <tr>\n",
       "      <th>0</th>\n",
       "      <td>39</td>\n",
       "      <td>State-gov</td>\n",
       "      <td>77516</td>\n",
       "      <td>Bachelors</td>\n",
       "      <td>13</td>\n",
       "      <td>Never-married</td>\n",
       "      <td>Adm-clerical</td>\n",
       "      <td>Not-in-family</td>\n",
       "      <td>White</td>\n",
       "      <td>Male</td>\n",
       "      <td>2174</td>\n",
       "      <td>0</td>\n",
       "      <td>40</td>\n",
       "      <td>United-States</td>\n",
       "      <td>&lt;=50K</td>\n",
       "    </tr>\n",
       "    <tr>\n",
       "      <th>1</th>\n",
       "      <td>50</td>\n",
       "      <td>Self-emp-not-inc</td>\n",
       "      <td>83311</td>\n",
       "      <td>Bachelors</td>\n",
       "      <td>13</td>\n",
       "      <td>Married-civ-spouse</td>\n",
       "      <td>Exec-managerial</td>\n",
       "      <td>Husband</td>\n",
       "      <td>White</td>\n",
       "      <td>Male</td>\n",
       "      <td>0</td>\n",
       "      <td>0</td>\n",
       "      <td>13</td>\n",
       "      <td>United-States</td>\n",
       "      <td>&lt;=50K</td>\n",
       "    </tr>\n",
       "    <tr>\n",
       "      <th>2</th>\n",
       "      <td>38</td>\n",
       "      <td>Private</td>\n",
       "      <td>215646</td>\n",
       "      <td>HS-grad</td>\n",
       "      <td>9</td>\n",
       "      <td>Divorced</td>\n",
       "      <td>Handlers-cleaners</td>\n",
       "      <td>Not-in-family</td>\n",
       "      <td>White</td>\n",
       "      <td>Male</td>\n",
       "      <td>0</td>\n",
       "      <td>0</td>\n",
       "      <td>40</td>\n",
       "      <td>United-States</td>\n",
       "      <td>&lt;=50K</td>\n",
       "    </tr>\n",
       "    <tr>\n",
       "      <th>3</th>\n",
       "      <td>53</td>\n",
       "      <td>Private</td>\n",
       "      <td>234721</td>\n",
       "      <td>11th</td>\n",
       "      <td>7</td>\n",
       "      <td>Married-civ-spouse</td>\n",
       "      <td>Handlers-cleaners</td>\n",
       "      <td>Husband</td>\n",
       "      <td>Black</td>\n",
       "      <td>Male</td>\n",
       "      <td>0</td>\n",
       "      <td>0</td>\n",
       "      <td>40</td>\n",
       "      <td>United-States</td>\n",
       "      <td>&lt;=50K</td>\n",
       "    </tr>\n",
       "    <tr>\n",
       "      <th>4</th>\n",
       "      <td>28</td>\n",
       "      <td>Private</td>\n",
       "      <td>338409</td>\n",
       "      <td>Bachelors</td>\n",
       "      <td>13</td>\n",
       "      <td>Married-civ-spouse</td>\n",
       "      <td>Prof-specialty</td>\n",
       "      <td>Wife</td>\n",
       "      <td>Black</td>\n",
       "      <td>Female</td>\n",
       "      <td>0</td>\n",
       "      <td>0</td>\n",
       "      <td>40</td>\n",
       "      <td>Cuba</td>\n",
       "      <td>&lt;=50K</td>\n",
       "    </tr>\n",
       "    <tr>\n",
       "      <th>...</th>\n",
       "      <td>...</td>\n",
       "      <td>...</td>\n",
       "      <td>...</td>\n",
       "      <td>...</td>\n",
       "      <td>...</td>\n",
       "      <td>...</td>\n",
       "      <td>...</td>\n",
       "      <td>...</td>\n",
       "      <td>...</td>\n",
       "      <td>...</td>\n",
       "      <td>...</td>\n",
       "      <td>...</td>\n",
       "      <td>...</td>\n",
       "      <td>...</td>\n",
       "      <td>...</td>\n",
       "    </tr>\n",
       "    <tr>\n",
       "      <th>32556</th>\n",
       "      <td>27</td>\n",
       "      <td>Private</td>\n",
       "      <td>257302</td>\n",
       "      <td>Assoc-acdm</td>\n",
       "      <td>12</td>\n",
       "      <td>Married-civ-spouse</td>\n",
       "      <td>Tech-support</td>\n",
       "      <td>Wife</td>\n",
       "      <td>White</td>\n",
       "      <td>Female</td>\n",
       "      <td>0</td>\n",
       "      <td>0</td>\n",
       "      <td>38</td>\n",
       "      <td>United-States</td>\n",
       "      <td>&lt;=50K</td>\n",
       "    </tr>\n",
       "    <tr>\n",
       "      <th>32557</th>\n",
       "      <td>40</td>\n",
       "      <td>Private</td>\n",
       "      <td>154374</td>\n",
       "      <td>HS-grad</td>\n",
       "      <td>9</td>\n",
       "      <td>Married-civ-spouse</td>\n",
       "      <td>Machine-op-inspct</td>\n",
       "      <td>Husband</td>\n",
       "      <td>White</td>\n",
       "      <td>Male</td>\n",
       "      <td>0</td>\n",
       "      <td>0</td>\n",
       "      <td>40</td>\n",
       "      <td>United-States</td>\n",
       "      <td>&gt;50K</td>\n",
       "    </tr>\n",
       "    <tr>\n",
       "      <th>32558</th>\n",
       "      <td>58</td>\n",
       "      <td>Private</td>\n",
       "      <td>151910</td>\n",
       "      <td>HS-grad</td>\n",
       "      <td>9</td>\n",
       "      <td>Widowed</td>\n",
       "      <td>Adm-clerical</td>\n",
       "      <td>Unmarried</td>\n",
       "      <td>White</td>\n",
       "      <td>Female</td>\n",
       "      <td>0</td>\n",
       "      <td>0</td>\n",
       "      <td>40</td>\n",
       "      <td>United-States</td>\n",
       "      <td>&lt;=50K</td>\n",
       "    </tr>\n",
       "    <tr>\n",
       "      <th>32559</th>\n",
       "      <td>22</td>\n",
       "      <td>Private</td>\n",
       "      <td>201490</td>\n",
       "      <td>HS-grad</td>\n",
       "      <td>9</td>\n",
       "      <td>Never-married</td>\n",
       "      <td>Adm-clerical</td>\n",
       "      <td>Own-child</td>\n",
       "      <td>White</td>\n",
       "      <td>Male</td>\n",
       "      <td>0</td>\n",
       "      <td>0</td>\n",
       "      <td>20</td>\n",
       "      <td>United-States</td>\n",
       "      <td>&lt;=50K</td>\n",
       "    </tr>\n",
       "    <tr>\n",
       "      <th>32560</th>\n",
       "      <td>52</td>\n",
       "      <td>Self-emp-inc</td>\n",
       "      <td>287927</td>\n",
       "      <td>HS-grad</td>\n",
       "      <td>9</td>\n",
       "      <td>Married-civ-spouse</td>\n",
       "      <td>Exec-managerial</td>\n",
       "      <td>Wife</td>\n",
       "      <td>White</td>\n",
       "      <td>Female</td>\n",
       "      <td>15024</td>\n",
       "      <td>0</td>\n",
       "      <td>40</td>\n",
       "      <td>United-States</td>\n",
       "      <td>&gt;50K</td>\n",
       "    </tr>\n",
       "  </tbody>\n",
       "</table>\n",
       "<p>32561 rows × 15 columns</p>\n",
       "</div>"
      ],
      "text/plain": [
       "       age          workclass  fnlwgt    education  education-num  \\\n",
       "0       39          State-gov   77516    Bachelors             13   \n",
       "1       50   Self-emp-not-inc   83311    Bachelors             13   \n",
       "2       38            Private  215646      HS-grad              9   \n",
       "3       53            Private  234721         11th              7   \n",
       "4       28            Private  338409    Bachelors             13   \n",
       "...    ...                ...     ...          ...            ...   \n",
       "32556   27            Private  257302   Assoc-acdm             12   \n",
       "32557   40            Private  154374      HS-grad              9   \n",
       "32558   58            Private  151910      HS-grad              9   \n",
       "32559   22            Private  201490      HS-grad              9   \n",
       "32560   52       Self-emp-inc  287927      HS-grad              9   \n",
       "\n",
       "            marital-status          occupation    relationship    race  \\\n",
       "0            Never-married        Adm-clerical   Not-in-family   White   \n",
       "1       Married-civ-spouse     Exec-managerial         Husband   White   \n",
       "2                 Divorced   Handlers-cleaners   Not-in-family   White   \n",
       "3       Married-civ-spouse   Handlers-cleaners         Husband   Black   \n",
       "4       Married-civ-spouse      Prof-specialty            Wife   Black   \n",
       "...                    ...                 ...             ...     ...   \n",
       "32556   Married-civ-spouse        Tech-support            Wife   White   \n",
       "32557   Married-civ-spouse   Machine-op-inspct         Husband   White   \n",
       "32558              Widowed        Adm-clerical       Unmarried   White   \n",
       "32559        Never-married        Adm-clerical       Own-child   White   \n",
       "32560   Married-civ-spouse     Exec-managerial            Wife   White   \n",
       "\n",
       "           sex  capital-gain  capital-loss  hours-per-week  native-country  \\\n",
       "0         Male          2174             0              40   United-States   \n",
       "1         Male             0             0              13   United-States   \n",
       "2         Male             0             0              40   United-States   \n",
       "3         Male             0             0              40   United-States   \n",
       "4       Female             0             0              40            Cuba   \n",
       "...        ...           ...           ...             ...             ...   \n",
       "32556   Female             0             0              38   United-States   \n",
       "32557     Male             0             0              40   United-States   \n",
       "32558   Female             0             0              40   United-States   \n",
       "32559     Male             0             0              20   United-States   \n",
       "32560   Female         15024             0              40   United-States   \n",
       "\n",
       "       income  \n",
       "0       <=50K  \n",
       "1       <=50K  \n",
       "2       <=50K  \n",
       "3       <=50K  \n",
       "4       <=50K  \n",
       "...       ...  \n",
       "32556   <=50K  \n",
       "32557    >50K  \n",
       "32558   <=50K  \n",
       "32559   <=50K  \n",
       "32560    >50K  \n",
       "\n",
       "[32561 rows x 15 columns]"
      ]
     },
     "execution_count": 728,
     "metadata": {},
     "output_type": "execute_result"
    }
   ],
   "source": [
    "df"
   ]
  },
  {
   "cell_type": "code",
   "execution_count": 729,
   "id": "2217640d",
   "metadata": {},
   "outputs": [
    {
     "data": {
      "text/plain": [
       "age               0\n",
       "workclass         0\n",
       "fnlwgt            0\n",
       "education         0\n",
       "education-num     0\n",
       "marital-status    0\n",
       "occupation        0\n",
       "relationship      0\n",
       "race              0\n",
       "sex               0\n",
       "capital-gain      0\n",
       "capital-loss      0\n",
       "hours-per-week    0\n",
       "native-country    0\n",
       "income            0\n",
       "dtype: int64"
      ]
     },
     "execution_count": 729,
     "metadata": {},
     "output_type": "execute_result"
    }
   ],
   "source": [
    "df.isnull().sum()"
   ]
  },
  {
   "cell_type": "markdown",
   "id": "5c55495a",
   "metadata": {},
   "source": [
    "Вывод: пропуски отсутствуют"
   ]
  },
  {
   "cell_type": "markdown",
   "id": "89883b89",
   "metadata": {},
   "source": [
    "Теперь посмотрим выбросы"
   ]
  },
  {
   "cell_type": "code",
   "execution_count": 730,
   "id": "8cdd88e3",
   "metadata": {},
   "outputs": [
    {
     "name": "stderr",
     "output_type": "stream",
     "text": [
      "C:\\ProgramData\\Anaconda3\\lib\\site-packages\\seaborn\\_decorators.py:36: FutureWarning: Pass the following variable as a keyword arg: x. From version 0.12, the only valid positional argument will be `data`, and passing other arguments without an explicit keyword will result in an error or misinterpretation.\n",
      "  warnings.warn(\n"
     ]
    },
    {
     "data": {
      "image/png": "[encoded data removed]",
      "text/plain": [
       "<Figure size 432x288 with 1 Axes>"
      ]
     },
     "metadata": {
      "needs_background": "light"
     },
     "output_type": "display_data"
    },
    {
     "name": "stderr",
     "output_type": "stream",
     "text": [
      "C:\\ProgramData\\Anaconda3\\lib\\site-packages\\seaborn\\_decorators.py:36: FutureWarning: Pass the following variable as a keyword arg: x. From version 0.12, the only valid positional argument will be `data`, and passing other arguments without an explicit keyword will result in an error or misinterpretation.\n",
      "  warnings.warn(\n"
     ]
    },
    {
     "data": {
      "image/png": "[encoded data removed]",
      "text/plain": [
       "<Figure size 432x288 with 1 Axes>"
      ]
     },
     "metadata": {
      "needs_background": "light"
     },
     "output_type": "display_data"
    },
    {
     "name": "stderr",
     "output_type": "stream",
     "text": [
      "C:\\ProgramData\\Anaconda3\\lib\\site-packages\\seaborn\\_decorators.py:36: FutureWarning: Pass the following variable as a keyword arg: x. From version 0.12, the only valid positional argument will be `data`, and passing other arguments without an explicit keyword will result in an error or misinterpretation.\n",
      "  warnings.warn(\n"
     ]
    },
    {
     "data": {
      "image/png": "[encoded data removed]",
      "text/plain": [
       "<Figure size 432x288 with 1 Axes>"
      ]
     },
     "metadata": {
      "needs_background": "light"
     },
     "output_type": "display_data"
    },
    {
     "name": "stderr",
     "output_type": "stream",
     "text": [
      "C:\\ProgramData\\Anaconda3\\lib\\site-packages\\seaborn\\_decorators.py:36: FutureWarning: Pass the following variable as a keyword arg: x. From version 0.12, the only valid positional argument will be `data`, and passing other arguments without an explicit keyword will result in an error or misinterpretation.\n",
      "  warnings.warn(\n"
     ]
    },
    {
     "data": {
      "image/png": "[encoded data removed]",
      "text/plain": [
       "<Figure size 432x288 with 1 Axes>"
      ]
     },
     "metadata": {
      "needs_background": "light"
     },
     "output_type": "display_data"
    },
    {
     "name": "stderr",
     "output_type": "stream",
     "text": [
      "C:\\ProgramData\\Anaconda3\\lib\\site-packages\\seaborn\\_decorators.py:36: FutureWarning: Pass the following variable as a keyword arg: x. From version 0.12, the only valid positional argument will be `data`, and passing other arguments without an explicit keyword will result in an error or misinterpretation.\n",
      "  warnings.warn(\n"
     ]
    },
    {
     "data": {
      "image/png": "[encoded data removed]",
      "text/plain": [
       "<Figure size 432x288 with 1 Axes>"
      ]
     },
     "metadata": {
      "needs_background": "light"
     },
     "output_type": "display_data"
    },
    {
     "name": "stderr",
     "output_type": "stream",
     "text": [
      "C:\\ProgramData\\Anaconda3\\lib\\site-packages\\seaborn\\_decorators.py:36: FutureWarning: Pass the following variable as a keyword arg: x. From version 0.12, the only valid positional argument will be `data`, and passing other arguments without an explicit keyword will result in an error or misinterpretation.\n",
      "  warnings.warn(\n"
     ]
    },
    {
     "data": {
      "image/png": "[encoded data removed]",
      "text/plain": [
       "<Figure size 432x288 with 1 Axes>"
      ]
     },
     "metadata": {
      "needs_background": "light"
     },
     "output_type": "display_data"
    }
   ],
   "source": [
    "for col in ['age', 'fnlwgt', 'education-num', 'capital-gain', 'capital-loss', 'hours-per-week']:\n",
    "    sns.boxplot(data[col])\n",
    "    plt.title(f\"Boxplot for {col}\")\n",
    "    plt.show()"
   ]
  },
  {
   "cell_type": "code",
   "execution_count": 731,
   "id": "caa4145a",
   "metadata": {},
   "outputs": [],
   "source": [
    "df_1 = df.query('`capital-gain` <= 50000 and `capital-loss` <= 3500 and fnlwgt <= 1300000').reset_index(drop=True)"
   ]
  },
  {
   "cell_type": "code",
   "execution_count": 732,
   "id": "5d473b54",
   "metadata": {},
   "outputs": [
    {
     "data": {
      "text/html": [
       "<div>\n",
       "<style scoped>\n",
       "    .dataframe tbody tr th:only-of-type {\n",
       "        vertical-align: middle;\n",
       "    }\n",
       "\n",
       "    .dataframe tbody tr th {\n",
       "        vertical-align: top;\n",
       "    }\n",
       "\n",
       "    .dataframe thead th {\n",
       "        text-align: right;\n",
       "    }\n",
       "</style>\n",
       "<table border=\"1\" class=\"dataframe\">\n",
       "  <thead>\n",
       "    <tr style=\"text-align: right;\">\n",
       "      <th></th>\n",
       "      <th>age</th>\n",
       "      <th>workclass</th>\n",
       "      <th>fnlwgt</th>\n",
       "      <th>education</th>\n",
       "      <th>education-num</th>\n",
       "      <th>marital-status</th>\n",
       "      <th>occupation</th>\n",
       "      <th>relationship</th>\n",
       "      <th>race</th>\n",
       "      <th>sex</th>\n",
       "      <th>capital-gain</th>\n",
       "      <th>capital-loss</th>\n",
       "      <th>hours-per-week</th>\n",
       "      <th>native-country</th>\n",
       "      <th>income</th>\n",
       "    </tr>\n",
       "  </thead>\n",
       "  <tbody>\n",
       "    <tr>\n",
       "      <th>0</th>\n",
       "      <td>39</td>\n",
       "      <td>State-gov</td>\n",
       "      <td>77516</td>\n",
       "      <td>Bachelors</td>\n",
       "      <td>13</td>\n",
       "      <td>Never-married</td>\n",
       "      <td>Adm-clerical</td>\n",
       "      <td>Not-in-family</td>\n",
       "      <td>White</td>\n",
       "      <td>Male</td>\n",
       "      <td>2174</td>\n",
       "      <td>0</td>\n",
       "      <td>40</td>\n",
       "      <td>United-States</td>\n",
       "      <td>&lt;=50K</td>\n",
       "    </tr>\n",
       "    <tr>\n",
       "      <th>1</th>\n",
       "      <td>50</td>\n",
       "      <td>Self-emp-not-inc</td>\n",
       "      <td>83311</td>\n",
       "      <td>Bachelors</td>\n",
       "      <td>13</td>\n",
       "      <td>Married-civ-spouse</td>\n",
       "      <td>Exec-managerial</td>\n",
       "      <td>Husband</td>\n",
       "      <td>White</td>\n",
       "      <td>Male</td>\n",
       "      <td>0</td>\n",
       "      <td>0</td>\n",
       "      <td>13</td>\n",
       "      <td>United-States</td>\n",
       "      <td>&lt;=50K</td>\n",
       "    </tr>\n",
       "    <tr>\n",
       "      <th>2</th>\n",
       "      <td>38</td>\n",
       "      <td>Private</td>\n",
       "      <td>215646</td>\n",
       "      <td>HS-grad</td>\n",
       "      <td>9</td>\n",
       "      <td>Divorced</td>\n",
       "      <td>Handlers-cleaners</td>\n",
       "      <td>Not-in-family</td>\n",
       "      <td>White</td>\n",
       "      <td>Male</td>\n",
       "      <td>0</td>\n",
       "      <td>0</td>\n",
       "      <td>40</td>\n",
       "      <td>United-States</td>\n",
       "      <td>&lt;=50K</td>\n",
       "    </tr>\n",
       "    <tr>\n",
       "      <th>3</th>\n",
       "      <td>53</td>\n",
       "      <td>Private</td>\n",
       "      <td>234721</td>\n",
       "      <td>11th</td>\n",
       "      <td>7</td>\n",
       "      <td>Married-civ-spouse</td>\n",
       "      <td>Handlers-cleaners</td>\n",
       "      <td>Husband</td>\n",
       "      <td>Black</td>\n",
       "      <td>Male</td>\n",
       "      <td>0</td>\n",
       "      <td>0</td>\n",
       "      <td>40</td>\n",
       "      <td>United-States</td>\n",
       "      <td>&lt;=50K</td>\n",
       "    </tr>\n",
       "    <tr>\n",
       "      <th>4</th>\n",
       "      <td>28</td>\n",
       "      <td>Private</td>\n",
       "      <td>338409</td>\n",
       "      <td>Bachelors</td>\n",
       "      <td>13</td>\n",
       "      <td>Married-civ-spouse</td>\n",
       "      <td>Prof-specialty</td>\n",
       "      <td>Wife</td>\n",
       "      <td>Black</td>\n",
       "      <td>Female</td>\n",
       "      <td>0</td>\n",
       "      <td>0</td>\n",
       "      <td>40</td>\n",
       "      <td>Cuba</td>\n",
       "      <td>&lt;=50K</td>\n",
       "    </tr>\n",
       "    <tr>\n",
       "      <th>...</th>\n",
       "      <td>...</td>\n",
       "      <td>...</td>\n",
       "      <td>...</td>\n",
       "      <td>...</td>\n",
       "      <td>...</td>\n",
       "      <td>...</td>\n",
       "      <td>...</td>\n",
       "      <td>...</td>\n",
       "      <td>...</td>\n",
       "      <td>...</td>\n",
       "      <td>...</td>\n",
       "      <td>...</td>\n",
       "      <td>...</td>\n",
       "      <td>...</td>\n",
       "      <td>...</td>\n",
       "    </tr>\n",
       "    <tr>\n",
       "      <th>32385</th>\n",
       "      <td>27</td>\n",
       "      <td>Private</td>\n",
       "      <td>257302</td>\n",
       "      <td>Assoc-acdm</td>\n",
       "      <td>12</td>\n",
       "      <td>Married-civ-spouse</td>\n",
       "      <td>Tech-support</td>\n",
       "      <td>Wife</td>\n",
       "      <td>White</td>\n",
       "      <td>Female</td>\n",
       "      <td>0</td>\n",
       "      <td>0</td>\n",
       "      <td>38</td>\n",
       "      <td>United-States</td>\n",
       "      <td>&lt;=50K</td>\n",
       "    </tr>\n",
       "    <tr>\n",
       "      <th>32386</th>\n",
       "      <td>40</td>\n",
       "      <td>Private</td>\n",
       "      <td>154374</td>\n",
       "      <td>HS-grad</td>\n",
       "      <td>9</td>\n",
       "      <td>Married-civ-spouse</td>\n",
       "      <td>Machine-op-inspct</td>\n",
       "      <td>Husband</td>\n",
       "      <td>White</td>\n",
       "      <td>Male</td>\n",
       "      <td>0</td>\n",
       "      <td>0</td>\n",
       "      <td>40</td>\n",
       "      <td>United-States</td>\n",
       "      <td>&gt;50K</td>\n",
       "    </tr>\n",
       "    <tr>\n",
       "      <th>32387</th>\n",
       "      <td>58</td>\n",
       "      <td>Private</td>\n",
       "      <td>151910</td>\n",
       "      <td>HS-grad</td>\n",
       "      <td>9</td>\n",
       "      <td>Widowed</td>\n",
       "      <td>Adm-clerical</td>\n",
       "      <td>Unmarried</td>\n",
       "      <td>White</td>\n",
       "      <td>Female</td>\n",
       "      <td>0</td>\n",
       "      <td>0</td>\n",
       "      <td>40</td>\n",
       "      <td>United-States</td>\n",
       "      <td>&lt;=50K</td>\n",
       "    </tr>\n",
       "    <tr>\n",
       "      <th>32388</th>\n",
       "      <td>22</td>\n",
       "      <td>Private</td>\n",
       "      <td>201490</td>\n",
       "      <td>HS-grad</td>\n",
       "      <td>9</td>\n",
       "      <td>Never-married</td>\n",
       "      <td>Adm-clerical</td>\n",
       "      <td>Own-child</td>\n",
       "      <td>White</td>\n",
       "      <td>Male</td>\n",
       "      <td>0</td>\n",
       "      <td>0</td>\n",
       "      <td>20</td>\n",
       "      <td>United-States</td>\n",
       "      <td>&lt;=50K</td>\n",
       "    </tr>\n",
       "    <tr>\n",
       "      <th>32389</th>\n",
       "      <td>52</td>\n",
       "      <td>Self-emp-inc</td>\n",
       "      <td>287927</td>\n",
       "      <td>HS-grad</td>\n",
       "      <td>9</td>\n",
       "      <td>Married-civ-spouse</td>\n",
       "      <td>Exec-managerial</td>\n",
       "      <td>Wife</td>\n",
       "      <td>White</td>\n",
       "      <td>Female</td>\n",
       "      <td>15024</td>\n",
       "      <td>0</td>\n",
       "      <td>40</td>\n",
       "      <td>United-States</td>\n",
       "      <td>&gt;50K</td>\n",
       "    </tr>\n",
       "  </tbody>\n",
       "</table>\n",
       "<p>32390 rows × 15 columns</p>\n",
       "</div>"
      ],
      "text/plain": [
       "       age          workclass  fnlwgt    education  education-num  \\\n",
       "0       39          State-gov   77516    Bachelors             13   \n",
       "1       50   Self-emp-not-inc   83311    Bachelors             13   \n",
       "2       38            Private  215646      HS-grad              9   \n",
       "3       53            Private  234721         11th              7   \n",
       "4       28            Private  338409    Bachelors             13   \n",
       "...    ...                ...     ...          ...            ...   \n",
       "32385   27            Private  257302   Assoc-acdm             12   \n",
       "32386   40            Private  154374      HS-grad              9   \n",
       "32387   58            Private  151910      HS-grad              9   \n",
       "32388   22            Private  201490      HS-grad              9   \n",
       "32389   52       Self-emp-inc  287927      HS-grad              9   \n",
       "\n",
       "            marital-status          occupation    relationship    race  \\\n",
       "0            Never-married        Adm-clerical   Not-in-family   White   \n",
       "1       Married-civ-spouse     Exec-managerial         Husband   White   \n",
       "2                 Divorced   Handlers-cleaners   Not-in-family   White   \n",
       "3       Married-civ-spouse   Handlers-cleaners         Husband   Black   \n",
       "4       Married-civ-spouse      Prof-specialty            Wife   Black   \n",
       "...                    ...                 ...             ...     ...   \n",
       "32385   Married-civ-spouse        Tech-support            Wife   White   \n",
       "32386   Married-civ-spouse   Machine-op-inspct         Husband   White   \n",
       "32387              Widowed        Adm-clerical       Unmarried   White   \n",
       "32388        Never-married        Adm-clerical       Own-child   White   \n",
       "32389   Married-civ-spouse     Exec-managerial            Wife   White   \n",
       "\n",
       "           sex  capital-gain  capital-loss  hours-per-week  native-country  \\\n",
       "0         Male          2174             0              40   United-States   \n",
       "1         Male             0             0              13   United-States   \n",
       "2         Male             0             0              40   United-States   \n",
       "3         Male             0             0              40   United-States   \n",
       "4       Female             0             0              40            Cuba   \n",
       "...        ...           ...           ...             ...             ...   \n",
       "32385   Female             0             0              38   United-States   \n",
       "32386     Male             0             0              40   United-States   \n",
       "32387   Female             0             0              40   United-States   \n",
       "32388     Male             0             0              20   United-States   \n",
       "32389   Female         15024             0              40   United-States   \n",
       "\n",
       "       income  \n",
       "0       <=50K  \n",
       "1       <=50K  \n",
       "2       <=50K  \n",
       "3       <=50K  \n",
       "4       <=50K  \n",
       "...       ...  \n",
       "32385   <=50K  \n",
       "32386    >50K  \n",
       "32387   <=50K  \n",
       "32388   <=50K  \n",
       "32389    >50K  \n",
       "\n",
       "[32390 rows x 15 columns]"
      ]
     },
     "execution_count": 732,
     "metadata": {},
     "output_type": "execute_result"
    }
   ],
   "source": [
    "df_1"
   ]
  },
  {
   "cell_type": "code",
   "execution_count": 733,
   "id": "4512c250",
   "metadata": {},
   "outputs": [
    {
     "data": {
      "text/plain": [
       "24"
      ]
     },
     "execution_count": 733,
     "metadata": {},
     "output_type": "execute_result"
    }
   ],
   "source": [
    "df_1.duplicated().sum()"
   ]
  },
  {
   "cell_type": "code",
   "execution_count": 734,
   "id": "2ac9bced",
   "metadata": {},
   "outputs": [],
   "source": [
    "df_1 = df_1.drop_duplicates()"
   ]
  },
  {
   "cell_type": "code",
   "execution_count": 735,
   "id": "e9602cce",
   "metadata": {},
   "outputs": [
    {
     "data": {
      "text/html": [
       "<div>\n",
       "<style scoped>\n",
       "    .dataframe tbody tr th:only-of-type {\n",
       "        vertical-align: middle;\n",
       "    }\n",
       "\n",
       "    .dataframe tbody tr th {\n",
       "        vertical-align: top;\n",
       "    }\n",
       "\n",
       "    .dataframe thead th {\n",
       "        text-align: right;\n",
       "    }\n",
       "</style>\n",
       "<table border=\"1\" class=\"dataframe\">\n",
       "  <thead>\n",
       "    <tr style=\"text-align: right;\">\n",
       "      <th></th>\n",
       "      <th>age</th>\n",
       "      <th>workclass</th>\n",
       "      <th>fnlwgt</th>\n",
       "      <th>education</th>\n",
       "      <th>education-num</th>\n",
       "      <th>marital-status</th>\n",
       "      <th>occupation</th>\n",
       "      <th>relationship</th>\n",
       "      <th>race</th>\n",
       "      <th>sex</th>\n",
       "      <th>capital-gain</th>\n",
       "      <th>capital-loss</th>\n",
       "      <th>hours-per-week</th>\n",
       "      <th>native-country</th>\n",
       "      <th>income</th>\n",
       "    </tr>\n",
       "  </thead>\n",
       "  <tbody>\n",
       "    <tr>\n",
       "      <th>0</th>\n",
       "      <td>39</td>\n",
       "      <td>State-gov</td>\n",
       "      <td>77516</td>\n",
       "      <td>Bachelors</td>\n",
       "      <td>13</td>\n",
       "      <td>Never-married</td>\n",
       "      <td>Adm-clerical</td>\n",
       "      <td>Not-in-family</td>\n",
       "      <td>White</td>\n",
       "      <td>Male</td>\n",
       "      <td>2174</td>\n",
       "      <td>0</td>\n",
       "      <td>40</td>\n",
       "      <td>United-States</td>\n",
       "      <td>&lt;=50K</td>\n",
       "    </tr>\n",
       "    <tr>\n",
       "      <th>1</th>\n",
       "      <td>50</td>\n",
       "      <td>Self-emp-not-inc</td>\n",
       "      <td>83311</td>\n",
       "      <td>Bachelors</td>\n",
       "      <td>13</td>\n",
       "      <td>Married-civ-spouse</td>\n",
       "      <td>Exec-managerial</td>\n",
       "      <td>Husband</td>\n",
       "      <td>White</td>\n",
       "      <td>Male</td>\n",
       "      <td>0</td>\n",
       "      <td>0</td>\n",
       "      <td>13</td>\n",
       "      <td>United-States</td>\n",
       "      <td>&lt;=50K</td>\n",
       "    </tr>\n",
       "    <tr>\n",
       "      <th>2</th>\n",
       "      <td>38</td>\n",
       "      <td>Private</td>\n",
       "      <td>215646</td>\n",
       "      <td>HS-grad</td>\n",
       "      <td>9</td>\n",
       "      <td>Divorced</td>\n",
       "      <td>Handlers-cleaners</td>\n",
       "      <td>Not-in-family</td>\n",
       "      <td>White</td>\n",
       "      <td>Male</td>\n",
       "      <td>0</td>\n",
       "      <td>0</td>\n",
       "      <td>40</td>\n",
       "      <td>United-States</td>\n",
       "      <td>&lt;=50K</td>\n",
       "    </tr>\n",
       "    <tr>\n",
       "      <th>3</th>\n",
       "      <td>53</td>\n",
       "      <td>Private</td>\n",
       "      <td>234721</td>\n",
       "      <td>11th</td>\n",
       "      <td>7</td>\n",
       "      <td>Married-civ-spouse</td>\n",
       "      <td>Handlers-cleaners</td>\n",
       "      <td>Husband</td>\n",
       "      <td>Black</td>\n",
       "      <td>Male</td>\n",
       "      <td>0</td>\n",
       "      <td>0</td>\n",
       "      <td>40</td>\n",
       "      <td>United-States</td>\n",
       "      <td>&lt;=50K</td>\n",
       "    </tr>\n",
       "    <tr>\n",
       "      <th>4</th>\n",
       "      <td>28</td>\n",
       "      <td>Private</td>\n",
       "      <td>338409</td>\n",
       "      <td>Bachelors</td>\n",
       "      <td>13</td>\n",
       "      <td>Married-civ-spouse</td>\n",
       "      <td>Prof-specialty</td>\n",
       "      <td>Wife</td>\n",
       "      <td>Black</td>\n",
       "      <td>Female</td>\n",
       "      <td>0</td>\n",
       "      <td>0</td>\n",
       "      <td>40</td>\n",
       "      <td>Cuba</td>\n",
       "      <td>&lt;=50K</td>\n",
       "    </tr>\n",
       "    <tr>\n",
       "      <th>...</th>\n",
       "      <td>...</td>\n",
       "      <td>...</td>\n",
       "      <td>...</td>\n",
       "      <td>...</td>\n",
       "      <td>...</td>\n",
       "      <td>...</td>\n",
       "      <td>...</td>\n",
       "      <td>...</td>\n",
       "      <td>...</td>\n",
       "      <td>...</td>\n",
       "      <td>...</td>\n",
       "      <td>...</td>\n",
       "      <td>...</td>\n",
       "      <td>...</td>\n",
       "      <td>...</td>\n",
       "    </tr>\n",
       "    <tr>\n",
       "      <th>32385</th>\n",
       "      <td>27</td>\n",
       "      <td>Private</td>\n",
       "      <td>257302</td>\n",
       "      <td>Assoc-acdm</td>\n",
       "      <td>12</td>\n",
       "      <td>Married-civ-spouse</td>\n",
       "      <td>Tech-support</td>\n",
       "      <td>Wife</td>\n",
       "      <td>White</td>\n",
       "      <td>Female</td>\n",
       "      <td>0</td>\n",
       "      <td>0</td>\n",
       "      <td>38</td>\n",
       "      <td>United-States</td>\n",
       "      <td>&lt;=50K</td>\n",
       "    </tr>\n",
       "    <tr>\n",
       "      <th>32386</th>\n",
       "      <td>40</td>\n",
       "      <td>Private</td>\n",
       "      <td>154374</td>\n",
       "      <td>HS-grad</td>\n",
       "      <td>9</td>\n",
       "      <td>Married-civ-spouse</td>\n",
       "      <td>Machine-op-inspct</td>\n",
       "      <td>Husband</td>\n",
       "      <td>White</td>\n",
       "      <td>Male</td>\n",
       "      <td>0</td>\n",
       "      <td>0</td>\n",
       "      <td>40</td>\n",
       "      <td>United-States</td>\n",
       "      <td>&gt;50K</td>\n",
       "    </tr>\n",
       "    <tr>\n",
       "      <th>32387</th>\n",
       "      <td>58</td>\n",
       "      <td>Private</td>\n",
       "      <td>151910</td>\n",
       "      <td>HS-grad</td>\n",
       "      <td>9</td>\n",
       "      <td>Widowed</td>\n",
       "      <td>Adm-clerical</td>\n",
       "      <td>Unmarried</td>\n",
       "      <td>White</td>\n",
       "      <td>Female</td>\n",
       "      <td>0</td>\n",
       "      <td>0</td>\n",
       "      <td>40</td>\n",
       "      <td>United-States</td>\n",
       "      <td>&lt;=50K</td>\n",
       "    </tr>\n",
       "    <tr>\n",
       "      <th>32388</th>\n",
       "      <td>22</td>\n",
       "      <td>Private</td>\n",
       "      <td>201490</td>\n",
       "      <td>HS-grad</td>\n",
       "      <td>9</td>\n",
       "      <td>Never-married</td>\n",
       "      <td>Adm-clerical</td>\n",
       "      <td>Own-child</td>\n",
       "      <td>White</td>\n",
       "      <td>Male</td>\n",
       "      <td>0</td>\n",
       "      <td>0</td>\n",
       "      <td>20</td>\n",
       "      <td>United-States</td>\n",
       "      <td>&lt;=50K</td>\n",
       "    </tr>\n",
       "    <tr>\n",
       "      <th>32389</th>\n",
       "      <td>52</td>\n",
       "      <td>Self-emp-inc</td>\n",
       "      <td>287927</td>\n",
       "      <td>HS-grad</td>\n",
       "      <td>9</td>\n",
       "      <td>Married-civ-spouse</td>\n",
       "      <td>Exec-managerial</td>\n",
       "      <td>Wife</td>\n",
       "      <td>White</td>\n",
       "      <td>Female</td>\n",
       "      <td>15024</td>\n",
       "      <td>0</td>\n",
       "      <td>40</td>\n",
       "      <td>United-States</td>\n",
       "      <td>&gt;50K</td>\n",
       "    </tr>\n",
       "  </tbody>\n",
       "</table>\n",
       "<p>32366 rows × 15 columns</p>\n",
       "</div>"
      ],
      "text/plain": [
       "       age          workclass  fnlwgt    education  education-num  \\\n",
       "0       39          State-gov   77516    Bachelors             13   \n",
       "1       50   Self-emp-not-inc   83311    Bachelors             13   \n",
       "2       38            Private  215646      HS-grad              9   \n",
       "3       53            Private  234721         11th              7   \n",
       "4       28            Private  338409    Bachelors             13   \n",
       "...    ...                ...     ...          ...            ...   \n",
       "32385   27            Private  257302   Assoc-acdm             12   \n",
       "32386   40            Private  154374      HS-grad              9   \n",
       "32387   58            Private  151910      HS-grad              9   \n",
       "32388   22            Private  201490      HS-grad              9   \n",
       "32389   52       Self-emp-inc  287927      HS-grad              9   \n",
       "\n",
       "            marital-status          occupation    relationship    race  \\\n",
       "0            Never-married        Adm-clerical   Not-in-family   White   \n",
       "1       Married-civ-spouse     Exec-managerial         Husband   White   \n",
       "2                 Divorced   Handlers-cleaners   Not-in-family   White   \n",
       "3       Married-civ-spouse   Handlers-cleaners         Husband   Black   \n",
       "4       Married-civ-spouse      Prof-specialty            Wife   Black   \n",
       "...                    ...                 ...             ...     ...   \n",
       "32385   Married-civ-spouse        Tech-support            Wife   White   \n",
       "32386   Married-civ-spouse   Machine-op-inspct         Husband   White   \n",
       "32387              Widowed        Adm-clerical       Unmarried   White   \n",
       "32388        Never-married        Adm-clerical       Own-child   White   \n",
       "32389   Married-civ-spouse     Exec-managerial            Wife   White   \n",
       "\n",
       "           sex  capital-gain  capital-loss  hours-per-week  native-country  \\\n",
       "0         Male          2174             0              40   United-States   \n",
       "1         Male             0             0              13   United-States   \n",
       "2         Male             0             0              40   United-States   \n",
       "3         Male             0             0              40   United-States   \n",
       "4       Female             0             0              40            Cuba   \n",
       "...        ...           ...           ...             ...             ...   \n",
       "32385   Female             0             0              38   United-States   \n",
       "32386     Male             0             0              40   United-States   \n",
       "32387   Female             0             0              40   United-States   \n",
       "32388     Male             0             0              20   United-States   \n",
       "32389   Female         15024             0              40   United-States   \n",
       "\n",
       "       income  \n",
       "0       <=50K  \n",
       "1       <=50K  \n",
       "2       <=50K  \n",
       "3       <=50K  \n",
       "4       <=50K  \n",
       "...       ...  \n",
       "32385   <=50K  \n",
       "32386    >50K  \n",
       "32387   <=50K  \n",
       "32388   <=50K  \n",
       "32389    >50K  \n",
       "\n",
       "[32366 rows x 15 columns]"
      ]
     },
     "execution_count": 735,
     "metadata": {},
     "output_type": "execute_result"
    }
   ],
   "source": [
    "df_1"
   ]
  },
  {
   "cell_type": "markdown",
   "id": "87a93864",
   "metadata": {},
   "source": [
    "### 2.\tПроверить гипотезу о влиянии признака marital-status на целевую переменную."
   ]
  },
  {
   "cell_type": "code",
   "execution_count": 801,
   "id": "e6cce386",
   "metadata": {},
   "outputs": [
    {
     "data": {
      "image/png": "[encoded data removed]",
      "text/plain": [
       "<Figure size 432x288 with 1 Axes>"
      ]
     },
     "metadata": {
      "needs_background": "light"
     },
     "output_type": "display_data"
    }
   ],
   "source": [
    "sns.countplot(data=df_1, x='marital-status', hue='income')\n",
    "plt.title(\"Влияние marital-status на income\")\n",
    "plt.xticks(rotation=45)\n",
    "plt.show()"
   ]
  },
  {
   "cell_type": "code",
   "execution_count": 737,
   "id": "b736cf30",
   "metadata": {},
   "outputs": [
    {
     "name": "stdout",
     "output_type": "stream",
     "text": [
      "Хи-квадрат: 6517.741653663022\n",
      "p-значение: 0.0\n",
      "Степени свободы: 6\n",
      "Отвергаем нулевую гипотезу. Есть статистически значимая связь между 'marital-status' и 'salary'.\n"
     ]
    }
   ],
   "source": [
    "table = pd.crosstab(df['marital-status'], df['income'])\n",
    "\n",
    "chi2, p, dof, expected = stats.chi2_contingency(contingency_table)\n",
    "\n",
    "print(\"Хи-квадрат:\", chi2)\n",
    "print(\"p-значение:\", p)\n",
    "print(\"Степени свободы:\", dof)\n",
    "\n",
    "alpha = 0.05\n",
    "if p < alpha:\n",
    "    print(\"Отвергаем нулевую гипотезу. Есть статистически значимая связь между 'marital-status' и 'salary'.\")\n",
    "else:\n",
    "    print(\"Не удалось отвергнуть нулевую гипотезу. Статистически значимой связи между 'marital-status' и 'salary' не найдено.\")"
   ]
  },
  {
   "cell_type": "markdown",
   "id": "ac1e42c3",
   "metadata": {},
   "source": [
    "### 3.\tВыполнить укрупнение признака marital-status и проверить влияние нового признака на результат."
   ]
  },
  {
   "cell_type": "code",
   "execution_count": 738,
   "id": "92a9900d",
   "metadata": {},
   "outputs": [
    {
     "name": "stdout",
     "output_type": "stream",
     "text": [
      "[' Never-married' ' Married-civ-spouse' ' Divorced'\n",
      " ' Married-spouse-absent' ' Separated' ' Married-AF-spouse' ' Widowed']\n"
     ]
    }
   ],
   "source": [
    "print(df_1['marital-status'].unique())"
   ]
  },
  {
   "cell_type": "code",
   "execution_count": 739,
   "id": "6044cb88",
   "metadata": {},
   "outputs": [
    {
     "name": "stdout",
     "output_type": "stream",
     "text": [
      "        marital-status marital-status-grouped\n",
      "0        Never-married            Not-Married\n",
      "1   Married-civ-spouse                Married\n",
      "2             Divorced            Not-Married\n",
      "3   Married-civ-spouse                Married\n",
      "4   Married-civ-spouse                Married\n"
     ]
    },
    {
     "name": "stderr",
     "output_type": "stream",
     "text": [
      "C:\\Users\\София\\AppData\\Local\\Temp\\ipykernel_2900\\3459668186.py:13: SettingWithCopyWarning: \n",
      "A value is trying to be set on a copy of a slice from a DataFrame.\n",
      "Try using .loc[row_indexer,col_indexer] = value instead\n",
      "\n",
      "See the caveats in the documentation: https://pandas.pydata.org/pandas-docs/stable/user_guide/indexing.html#returning-a-view-versus-a-copy\n",
      "  df_1.loc[:, 'marital-status-grouped'] = df_1['marital-status'].map(marital_status_mapping).fillna('Unknown')\n"
     ]
    }
   ],
   "source": [
    "# cоздаем словарь для замены значений\n",
    "marital_status_mapping = {\n",
    "    ' Married-civ-spouse': 'Married',\n",
    "    ' Married-spouse-absent': 'Not-Married',\n",
    "    ' Married-AF-spouse': 'Married',\n",
    "    ' Divorced': 'Not-Married',\n",
    "    ' Separated': 'Not-Married',\n",
    "    ' Widowed': 'Not-Married',\n",
    "    ' Never-married': 'Not-Married'\n",
    "}\n",
    "\n",
    "df_1.loc[:, 'marital-status-grouped'] = df_1['marital-status'].map(marital_status_mapping).fillna('Unknown')\n",
    "\n",
    "print(df_1[['marital-status', 'marital-status-grouped']].head())\n"
   ]
  },
  {
   "cell_type": "markdown",
   "id": "38c4a155",
   "metadata": {},
   "source": [
    "### 4.\tПостроить график зависимости между результирующим признаком и признаком fnlwgt."
   ]
  },
  {
   "cell_type": "code",
   "execution_count": 767,
   "id": "5f4fbf65",
   "metadata": {},
   "outputs": [
    {
     "name": "stderr",
     "output_type": "stream",
     "text": [
      "No artists with labels found to put in legend.  Note that artists whose label start with an underscore are ignored when legend() is called with no argument.\n"
     ]
    },
    {
     "data": {
      "image/png": "[encoded data removed]",
      "text/plain": [
       "<Figure size 720x432 with 1 Axes>"
      ]
     },
     "metadata": {
      "needs_background": "light"
     },
     "output_type": "display_data"
    }
   ],
   "source": [
    "plt.figure(figsize=(10, 6))\n",
    "sns.histplot(data=df, x='fnlwgt', hue='income', multiple='stack', kde=False)\n",
    "plt.title(\"Распределение fnlwgt в зависимости от income\")\n",
    "plt.xlabel(\"fnlwgt\")\n",
    "plt.ylabel(\"Частота\")\n",
    "plt.legend(title=\"income\")\n",
    "plt.show()"
   ]
  },
  {
   "cell_type": "markdown",
   "id": "aaaec9d8",
   "metadata": {},
   "source": [
    "### 5.\tПровести обработку признаков в зависимости от их типа и подготовить данные для построения классификатора."
   ]
  },
  {
   "cell_type": "code",
   "execution_count": 741,
   "id": "657e343b",
   "metadata": {},
   "outputs": [],
   "source": [
    "numerical = ['age', 'fnlwgt', 'education-num', 'capital-gain', 'capital-loss', 'hours-per-week']\n",
    "categorical = ['workclass', 'education', 'marital-status', 'occupation', 'relationship', 'race', 'sex']"
   ]
  },
  {
   "cell_type": "code",
   "execution_count": 742,
   "id": "64da0587",
   "metadata": {},
   "outputs": [
    {
     "name": "stderr",
     "output_type": "stream",
     "text": [
      "C:\\Users\\София\\AppData\\Local\\Temp\\ipykernel_2900\\274661261.py:1: SettingWithCopyWarning: \n",
      "A value is trying to be set on a copy of a slice from a DataFrame.\n",
      "Try using .loc[row_indexer,col_indexer] = value instead\n",
      "\n",
      "See the caveats in the documentation: https://pandas.pydata.org/pandas-docs/stable/user_guide/indexing.html#returning-a-view-versus-a-copy\n",
      "  df_1['income'] = df_1['income'].map({' <=50K': 0, ' >50K': 1})\n"
     ]
    }
   ],
   "source": [
    "df_1['income'] = df_1['income'].map({' <=50K': 0, ' >50K': 1})"
   ]
  },
  {
   "cell_type": "code",
   "execution_count": 743,
   "id": "f755c4c2",
   "metadata": {},
   "outputs": [
    {
     "data": {
      "text/html": [
       "<div>\n",
       "<style scoped>\n",
       "    .dataframe tbody tr th:only-of-type {\n",
       "        vertical-align: middle;\n",
       "    }\n",
       "\n",
       "    .dataframe tbody tr th {\n",
       "        vertical-align: top;\n",
       "    }\n",
       "\n",
       "    .dataframe thead th {\n",
       "        text-align: right;\n",
       "    }\n",
       "</style>\n",
       "<table border=\"1\" class=\"dataframe\">\n",
       "  <thead>\n",
       "    <tr style=\"text-align: right;\">\n",
       "      <th></th>\n",
       "      <th>age</th>\n",
       "      <th>workclass</th>\n",
       "      <th>fnlwgt</th>\n",
       "      <th>education</th>\n",
       "      <th>education-num</th>\n",
       "      <th>marital-status</th>\n",
       "      <th>occupation</th>\n",
       "      <th>relationship</th>\n",
       "      <th>race</th>\n",
       "      <th>sex</th>\n",
       "      <th>capital-gain</th>\n",
       "      <th>capital-loss</th>\n",
       "      <th>hours-per-week</th>\n",
       "      <th>native-country</th>\n",
       "      <th>income</th>\n",
       "      <th>marital-status-grouped</th>\n",
       "    </tr>\n",
       "  </thead>\n",
       "  <tbody>\n",
       "    <tr>\n",
       "      <th>0</th>\n",
       "      <td>39</td>\n",
       "      <td>State-gov</td>\n",
       "      <td>77516</td>\n",
       "      <td>Bachelors</td>\n",
       "      <td>13</td>\n",
       "      <td>Never-married</td>\n",
       "      <td>Adm-clerical</td>\n",
       "      <td>Not-in-family</td>\n",
       "      <td>White</td>\n",
       "      <td>Male</td>\n",
       "      <td>2174</td>\n",
       "      <td>0</td>\n",
       "      <td>40</td>\n",
       "      <td>United-States</td>\n",
       "      <td>0</td>\n",
       "      <td>Not-Married</td>\n",
       "    </tr>\n",
       "    <tr>\n",
       "      <th>1</th>\n",
       "      <td>50</td>\n",
       "      <td>Self-emp-not-inc</td>\n",
       "      <td>83311</td>\n",
       "      <td>Bachelors</td>\n",
       "      <td>13</td>\n",
       "      <td>Married-civ-spouse</td>\n",
       "      <td>Exec-managerial</td>\n",
       "      <td>Husband</td>\n",
       "      <td>White</td>\n",
       "      <td>Male</td>\n",
       "      <td>0</td>\n",
       "      <td>0</td>\n",
       "      <td>13</td>\n",
       "      <td>United-States</td>\n",
       "      <td>0</td>\n",
       "      <td>Married</td>\n",
       "    </tr>\n",
       "    <tr>\n",
       "      <th>2</th>\n",
       "      <td>38</td>\n",
       "      <td>Private</td>\n",
       "      <td>215646</td>\n",
       "      <td>HS-grad</td>\n",
       "      <td>9</td>\n",
       "      <td>Divorced</td>\n",
       "      <td>Handlers-cleaners</td>\n",
       "      <td>Not-in-family</td>\n",
       "      <td>White</td>\n",
       "      <td>Male</td>\n",
       "      <td>0</td>\n",
       "      <td>0</td>\n",
       "      <td>40</td>\n",
       "      <td>United-States</td>\n",
       "      <td>0</td>\n",
       "      <td>Not-Married</td>\n",
       "    </tr>\n",
       "    <tr>\n",
       "      <th>3</th>\n",
       "      <td>53</td>\n",
       "      <td>Private</td>\n",
       "      <td>234721</td>\n",
       "      <td>11th</td>\n",
       "      <td>7</td>\n",
       "      <td>Married-civ-spouse</td>\n",
       "      <td>Handlers-cleaners</td>\n",
       "      <td>Husband</td>\n",
       "      <td>Black</td>\n",
       "      <td>Male</td>\n",
       "      <td>0</td>\n",
       "      <td>0</td>\n",
       "      <td>40</td>\n",
       "      <td>United-States</td>\n",
       "      <td>0</td>\n",
       "      <td>Married</td>\n",
       "    </tr>\n",
       "    <tr>\n",
       "      <th>4</th>\n",
       "      <td>28</td>\n",
       "      <td>Private</td>\n",
       "      <td>338409</td>\n",
       "      <td>Bachelors</td>\n",
       "      <td>13</td>\n",
       "      <td>Married-civ-spouse</td>\n",
       "      <td>Prof-specialty</td>\n",
       "      <td>Wife</td>\n",
       "      <td>Black</td>\n",
       "      <td>Female</td>\n",
       "      <td>0</td>\n",
       "      <td>0</td>\n",
       "      <td>40</td>\n",
       "      <td>Cuba</td>\n",
       "      <td>0</td>\n",
       "      <td>Married</td>\n",
       "    </tr>\n",
       "    <tr>\n",
       "      <th>...</th>\n",
       "      <td>...</td>\n",
       "      <td>...</td>\n",
       "      <td>...</td>\n",
       "      <td>...</td>\n",
       "      <td>...</td>\n",
       "      <td>...</td>\n",
       "      <td>...</td>\n",
       "      <td>...</td>\n",
       "      <td>...</td>\n",
       "      <td>...</td>\n",
       "      <td>...</td>\n",
       "      <td>...</td>\n",
       "      <td>...</td>\n",
       "      <td>...</td>\n",
       "      <td>...</td>\n",
       "      <td>...</td>\n",
       "    </tr>\n",
       "    <tr>\n",
       "      <th>32385</th>\n",
       "      <td>27</td>\n",
       "      <td>Private</td>\n",
       "      <td>257302</td>\n",
       "      <td>Assoc-acdm</td>\n",
       "      <td>12</td>\n",
       "      <td>Married-civ-spouse</td>\n",
       "      <td>Tech-support</td>\n",
       "      <td>Wife</td>\n",
       "      <td>White</td>\n",
       "      <td>Female</td>\n",
       "      <td>0</td>\n",
       "      <td>0</td>\n",
       "      <td>38</td>\n",
       "      <td>United-States</td>\n",
       "      <td>0</td>\n",
       "      <td>Married</td>\n",
       "    </tr>\n",
       "    <tr>\n",
       "      <th>32386</th>\n",
       "      <td>40</td>\n",
       "      <td>Private</td>\n",
       "      <td>154374</td>\n",
       "      <td>HS-grad</td>\n",
       "      <td>9</td>\n",
       "      <td>Married-civ-spouse</td>\n",
       "      <td>Machine-op-inspct</td>\n",
       "      <td>Husband</td>\n",
       "      <td>White</td>\n",
       "      <td>Male</td>\n",
       "      <td>0</td>\n",
       "      <td>0</td>\n",
       "      <td>40</td>\n",
       "      <td>United-States</td>\n",
       "      <td>1</td>\n",
       "      <td>Married</td>\n",
       "    </tr>\n",
       "    <tr>\n",
       "      <th>32387</th>\n",
       "      <td>58</td>\n",
       "      <td>Private</td>\n",
       "      <td>151910</td>\n",
       "      <td>HS-grad</td>\n",
       "      <td>9</td>\n",
       "      <td>Widowed</td>\n",
       "      <td>Adm-clerical</td>\n",
       "      <td>Unmarried</td>\n",
       "      <td>White</td>\n",
       "      <td>Female</td>\n",
       "      <td>0</td>\n",
       "      <td>0</td>\n",
       "      <td>40</td>\n",
       "      <td>United-States</td>\n",
       "      <td>0</td>\n",
       "      <td>Not-Married</td>\n",
       "    </tr>\n",
       "    <tr>\n",
       "      <th>32388</th>\n",
       "      <td>22</td>\n",
       "      <td>Private</td>\n",
       "      <td>201490</td>\n",
       "      <td>HS-grad</td>\n",
       "      <td>9</td>\n",
       "      <td>Never-married</td>\n",
       "      <td>Adm-clerical</td>\n",
       "      <td>Own-child</td>\n",
       "      <td>White</td>\n",
       "      <td>Male</td>\n",
       "      <td>0</td>\n",
       "      <td>0</td>\n",
       "      <td>20</td>\n",
       "      <td>United-States</td>\n",
       "      <td>0</td>\n",
       "      <td>Not-Married</td>\n",
       "    </tr>\n",
       "    <tr>\n",
       "      <th>32389</th>\n",
       "      <td>52</td>\n",
       "      <td>Self-emp-inc</td>\n",
       "      <td>287927</td>\n",
       "      <td>HS-grad</td>\n",
       "      <td>9</td>\n",
       "      <td>Married-civ-spouse</td>\n",
       "      <td>Exec-managerial</td>\n",
       "      <td>Wife</td>\n",
       "      <td>White</td>\n",
       "      <td>Female</td>\n",
       "      <td>15024</td>\n",
       "      <td>0</td>\n",
       "      <td>40</td>\n",
       "      <td>United-States</td>\n",
       "      <td>1</td>\n",
       "      <td>Married</td>\n",
       "    </tr>\n",
       "  </tbody>\n",
       "</table>\n",
       "<p>32366 rows × 16 columns</p>\n",
       "</div>"
      ],
      "text/plain": [
       "       age          workclass  fnlwgt    education  education-num  \\\n",
       "0       39          State-gov   77516    Bachelors             13   \n",
       "1       50   Self-emp-not-inc   83311    Bachelors             13   \n",
       "2       38            Private  215646      HS-grad              9   \n",
       "3       53            Private  234721         11th              7   \n",
       "4       28            Private  338409    Bachelors             13   \n",
       "...    ...                ...     ...          ...            ...   \n",
       "32385   27            Private  257302   Assoc-acdm             12   \n",
       "32386   40            Private  154374      HS-grad              9   \n",
       "32387   58            Private  151910      HS-grad              9   \n",
       "32388   22            Private  201490      HS-grad              9   \n",
       "32389   52       Self-emp-inc  287927      HS-grad              9   \n",
       "\n",
       "            marital-status          occupation    relationship    race  \\\n",
       "0            Never-married        Adm-clerical   Not-in-family   White   \n",
       "1       Married-civ-spouse     Exec-managerial         Husband   White   \n",
       "2                 Divorced   Handlers-cleaners   Not-in-family   White   \n",
       "3       Married-civ-spouse   Handlers-cleaners         Husband   Black   \n",
       "4       Married-civ-spouse      Prof-specialty            Wife   Black   \n",
       "...                    ...                 ...             ...     ...   \n",
       "32385   Married-civ-spouse        Tech-support            Wife   White   \n",
       "32386   Married-civ-spouse   Machine-op-inspct         Husband   White   \n",
       "32387              Widowed        Adm-clerical       Unmarried   White   \n",
       "32388        Never-married        Adm-clerical       Own-child   White   \n",
       "32389   Married-civ-spouse     Exec-managerial            Wife   White   \n",
       "\n",
       "           sex  capital-gain  capital-loss  hours-per-week  native-country  \\\n",
       "0         Male          2174             0              40   United-States   \n",
       "1         Male             0             0              13   United-States   \n",
       "2         Male             0             0              40   United-States   \n",
       "3         Male             0             0              40   United-States   \n",
       "4       Female             0             0              40            Cuba   \n",
       "...        ...           ...           ...             ...             ...   \n",
       "32385   Female             0             0              38   United-States   \n",
       "32386     Male             0             0              40   United-States   \n",
       "32387   Female             0             0              40   United-States   \n",
       "32388     Male             0             0              20   United-States   \n",
       "32389   Female         15024             0              40   United-States   \n",
       "\n",
       "       income marital-status-grouped  \n",
       "0           0            Not-Married  \n",
       "1           0                Married  \n",
       "2           0            Not-Married  \n",
       "3           0                Married  \n",
       "4           0                Married  \n",
       "...       ...                    ...  \n",
       "32385       0                Married  \n",
       "32386       1                Married  \n",
       "32387       0            Not-Married  \n",
       "32388       0            Not-Married  \n",
       "32389       1                Married  \n",
       "\n",
       "[32366 rows x 16 columns]"
      ]
     },
     "execution_count": 743,
     "metadata": {},
     "output_type": "execute_result"
    }
   ],
   "source": [
    "df_1\n"
   ]
  },
  {
   "cell_type": "markdown",
   "id": "6dc0d28c",
   "metadata": {},
   "source": [
    "### 6.\tРазделить выборку на тестовую и обучающую."
   ]
  },
  {
   "cell_type": "code",
   "execution_count": 744,
   "id": "cc2c8cbd",
   "metadata": {},
   "outputs": [],
   "source": [
    "X = df_1.drop(['income','native-country'], axis=1)  \n",
    "y = df_1['income']  \n",
    "\n",
    "\n",
    "X_train, X_test, y_train, y_test = train_test_split(X, y, test_size=0.8, random_state=42)"
   ]
  },
  {
   "cell_type": "markdown",
   "id": "1c6cac23",
   "metadata": {},
   "source": [
    "### 7.\tПровести отбор признаков в модель любым известным вам методом. "
   ]
  },
  {
   "cell_type": "code",
   "execution_count": 745,
   "id": "97524b57",
   "metadata": {},
   "outputs": [],
   "source": [
    "from sklearn.model_selection import train_test_split, StratifiedKFold, GridSearchCV\n",
    "from sklearn.preprocessing import StandardScaler, OneHotEncoder\n",
    "from sklearn.compose import ColumnTransformer\n",
    "from sklearn.linear_model import LogisticRegression\n",
    "from sklearn.pipeline import Pipeline\n",
    "from sklearn.impute import SimpleImputer\n",
    "from sklearn.svm import LinearSVC\n",
    "from sklearn.feature_selection import SequentialFeatureSelector"
   ]
  },
  {
   "cell_type": "code",
   "execution_count": 746,
   "id": "cfa37123",
   "metadata": {},
   "outputs": [],
   "source": [
    "# преобразование количественных признаков: StandardScaler\n",
    "numerical_transformer = StandardScaler()"
   ]
  },
  {
   "cell_type": "code",
   "execution_count": 747,
   "id": "47c7f184",
   "metadata": {},
   "outputs": [],
   "source": [
    "# преобразование категориальных признаков: OneHotEncoder\n",
    "categorical_transformer = OneHotEncoder(handle_unknown='ignore')"
   ]
  },
  {
   "cell_type": "code",
   "execution_count": 748,
   "id": "386a185e",
   "metadata": {},
   "outputs": [],
   "source": [
    "preprocessor = ColumnTransformer(\n",
    "    transformers=[\n",
    "        ('num', numerical_transformer, numerical), \n",
    "        ('cat', categorical_transformer, categorical)  \n",
    "    ])"
   ]
  },
  {
   "cell_type": "markdown",
   "id": "667d7a1e",
   "metadata": {},
   "source": [
    "### 8.\tПостроить классификатор с использованием метода опорных векторов. "
   ]
  },
  {
   "cell_type": "code",
   "execution_count": 749,
   "id": "82d53bf9",
   "metadata": {},
   "outputs": [],
   "source": [
    "svc = LinearSVC(random_state=10, dual = False) #метод опорных векторов"
   ]
  },
  {
   "cell_type": "code",
   "execution_count": 750,
   "id": "4b28a04e",
   "metadata": {},
   "outputs": [],
   "source": [
    "sfs = SequentialFeatureSelector(estimator=svc,\n",
    "                                direction='forward', \n",
    "                                scoring='roc_auc')"
   ]
  },
  {
   "cell_type": "code",
   "execution_count": 751,
   "id": "76ef726c",
   "metadata": {},
   "outputs": [],
   "source": [
    "sfs_model_cv = Pipeline(steps=[\n",
    "    ('preprocessor', preprocessor),\n",
    "    ('feature selection',sfs),\n",
    "    ('classifier', svc)], \n",
    "                verbose =True)"
   ]
  },
  {
   "cell_type": "code",
   "execution_count": 752,
   "id": "c04900b2",
   "metadata": {},
   "outputs": [
    {
     "name": "stdout",
     "output_type": "stream",
     "text": [
      "[Pipeline] ...... (step 1 of 3) Processing preprocessor, total=   0.0s\n",
      "[Pipeline] . (step 2 of 3) Processing feature selection, total= 2.7min\n",
      "[Pipeline] ........ (step 3 of 3) Processing classifier, total=   0.0s\n"
     ]
    },
    {
     "data": {
      "text/plain": [
       "Pipeline(steps=[('preprocessor',\n",
       "                 ColumnTransformer(transformers=[('num', StandardScaler(),\n",
       "                                                  ['age', 'fnlwgt',\n",
       "                                                   'education-num',\n",
       "                                                   'capital-gain',\n",
       "                                                   'capital-loss',\n",
       "                                                   'hours-per-week']),\n",
       "                                                 ('cat',\n",
       "                                                  OneHotEncoder(handle_unknown='ignore'),\n",
       "                                                  ['workclass', 'education',\n",
       "                                                   'marital-status',\n",
       "                                                   'occupation', 'relationship',\n",
       "                                                   'race', 'sex'])])),\n",
       "                ('feature selection',\n",
       "                 SequentialFeatureSelector(estimator=LinearSVC(dual=False,\n",
       "                                                               random_state=10),\n",
       "                                           scoring='roc_auc')),\n",
       "                ('classifier', LinearSVC(dual=False, random_state=10))],\n",
       "         verbose=True)"
      ]
     },
     "execution_count": 752,
     "metadata": {},
     "output_type": "execute_result"
    }
   ],
   "source": [
    "sfs_model_cv.fit(X_train, y_train)"
   ]
  },
  {
   "cell_type": "code",
   "execution_count": 753,
   "id": "f5f7ef6d",
   "metadata": {},
   "outputs": [
    {
     "name": "stdout",
     "output_type": "stream",
     "text": [
      "Number of selected features : 33\n"
     ]
    }
   ],
   "source": [
    "print('Number of selected features : %d' % sfs_model_cv.named_steps['feature selection'].n_features_to_select_)"
   ]
  },
  {
   "cell_type": "markdown",
   "id": "85172bfb",
   "metadata": {},
   "source": [
    "### 9.\tВалидировать модель. Подобрать гиперпараметры модели, максимизирующие метрику roc_auc."
   ]
  },
  {
   "cell_type": "code",
   "execution_count": 754,
   "id": "c9bc96cb",
   "metadata": {},
   "outputs": [],
   "source": [
    "# определяем параметры для подбора гиперпараметров\n",
    "parameters = [\n",
    "    {'classifier__penalty': ['l1', 'l2'], 'classifier__loss': ['hinge', 'squared_hinge'], 'classifier__C': [0.5, 1, 5] }]"
   ]
  },
  {
   "cell_type": "code",
   "execution_count": 755,
   "id": "06703356",
   "metadata": {},
   "outputs": [],
   "source": [
    "# настроим кросс-валидацию с использованием StratifiedKFold (чтобы сохранить пропорции классов)\n",
    "kf = StratifiedKFold(n_splits=5, shuffle=True, random_state=42)"
   ]
  },
  {
   "cell_type": "code",
   "execution_count": 756,
   "id": "457e6c0c",
   "metadata": {},
   "outputs": [],
   "source": [
    "# инициализируем GridSearchCV с кросс-валидацией и настройкой verbose\n",
    "clf = GridSearchCV(sfs_model_cv, parameters, cv=kf, verbose=3, scoring='roc_auc')"
   ]
  },
  {
   "cell_type": "code",
   "execution_count": 757,
   "id": "560293c5",
   "metadata": {},
   "outputs": [
    {
     "name": "stdout",
     "output_type": "stream",
     "text": [
      "Fitting 5 folds for each of 12 candidates, totalling 60 fits\n",
      "[Pipeline] ...... (step 1 of 3) Processing preprocessor, total=   0.0s\n",
      "[Pipeline] . (step 2 of 3) Processing feature selection, total= 2.3min\n",
      "[CV 1/5] END classifier__C=0.5, classifier__loss=hinge, classifier__penalty=l1;, score=nan total time= 2.3min\n",
      "[Pipeline] ...... (step 1 of 3) Processing preprocessor, total=   0.0s\n",
      "[Pipeline] . (step 2 of 3) Processing feature selection, total= 2.3min\n",
      "[CV 2/5] END classifier__C=0.5, classifier__loss=hinge, classifier__penalty=l1;, score=nan total time= 2.3min\n",
      "[Pipeline] ...... (step 1 of 3) Processing preprocessor, total=   0.0s\n",
      "[Pipeline] . (step 2 of 3) Processing feature selection, total= 2.4min\n",
      "[CV 3/5] END classifier__C=0.5, classifier__loss=hinge, classifier__penalty=l1;, score=nan total time= 2.4min\n",
      "[Pipeline] ...... (step 1 of 3) Processing preprocessor, total=   0.0s\n",
      "[Pipeline] . (step 2 of 3) Processing feature selection, total=11.3min\n",
      "[CV 4/5] END classifier__C=0.5, classifier__loss=hinge, classifier__penalty=l1;, score=nan total time=11.3min\n",
      "[Pipeline] ...... (step 1 of 3) Processing preprocessor, total=   0.0s\n",
      "[Pipeline] . (step 2 of 3) Processing feature selection, total= 1.6min\n",
      "[CV 5/5] END classifier__C=0.5, classifier__loss=hinge, classifier__penalty=l1;, score=nan total time= 1.6min\n",
      "[Pipeline] ...... (step 1 of 3) Processing preprocessor, total=   0.0s\n",
      "[Pipeline] . (step 2 of 3) Processing feature selection, total= 1.6min\n",
      "[CV 1/5] END classifier__C=0.5, classifier__loss=hinge, classifier__penalty=l2;, score=nan total time= 1.6min\n",
      "[Pipeline] ...... (step 1 of 3) Processing preprocessor, total=   0.0s\n",
      "[Pipeline] . (step 2 of 3) Processing feature selection, total= 1.4min\n",
      "[CV 2/5] END classifier__C=0.5, classifier__loss=hinge, classifier__penalty=l2;, score=nan total time= 1.4min\n",
      "[Pipeline] ...... (step 1 of 3) Processing preprocessor, total=   0.0s\n",
      "[Pipeline] . (step 2 of 3) Processing feature selection, total= 1.4min\n",
      "[CV 3/5] END classifier__C=0.5, classifier__loss=hinge, classifier__penalty=l2;, score=nan total time= 1.4min\n",
      "[Pipeline] ...... (step 1 of 3) Processing preprocessor, total=   0.0s\n",
      "[Pipeline] . (step 2 of 3) Processing feature selection, total= 1.4min\n",
      "[CV 4/5] END classifier__C=0.5, classifier__loss=hinge, classifier__penalty=l2;, score=nan total time= 1.4min\n",
      "[Pipeline] ...... (step 1 of 3) Processing preprocessor, total=   0.0s\n",
      "[Pipeline] . (step 2 of 3) Processing feature selection, total= 1.4min\n",
      "[CV 5/5] END classifier__C=0.5, classifier__loss=hinge, classifier__penalty=l2;, score=nan total time= 1.4min\n",
      "[Pipeline] ...... (step 1 of 3) Processing preprocessor, total=   0.0s\n",
      "[Pipeline] . (step 2 of 3) Processing feature selection, total= 1.4min\n",
      "[Pipeline] ........ (step 3 of 3) Processing classifier, total=   0.1s\n",
      "[CV 1/5] END classifier__C=0.5, classifier__loss=squared_hinge, classifier__penalty=l1;, score=0.901 total time= 1.4min\n",
      "[Pipeline] ...... (step 1 of 3) Processing preprocessor, total=   0.0s\n",
      "[Pipeline] . (step 2 of 3) Processing feature selection, total= 1.4min\n",
      "[Pipeline] ........ (step 3 of 3) Processing classifier, total=   0.0s\n",
      "[CV 2/5] END classifier__C=0.5, classifier__loss=squared_hinge, classifier__penalty=l1;, score=0.918 total time= 1.4min\n",
      "[Pipeline] ...... (step 1 of 3) Processing preprocessor, total=   0.0s\n",
      "[Pipeline] . (step 2 of 3) Processing feature selection, total= 1.3min\n"
     ]
    },
    {
     "name": "stderr",
     "output_type": "stream",
     "text": [
      "C:\\ProgramData\\Anaconda3\\lib\\site-packages\\sklearn\\svm\\_base.py:1206: ConvergenceWarning: Liblinear failed to converge, increase the number of iterations.\n",
      "  warnings.warn(\n"
     ]
    },
    {
     "name": "stdout",
     "output_type": "stream",
     "text": [
      "[Pipeline] ........ (step 3 of 3) Processing classifier, total=   0.3s\n",
      "[CV 3/5] END classifier__C=0.5, classifier__loss=squared_hinge, classifier__penalty=l1;, score=0.900 total time= 1.3min\n",
      "[Pipeline] ...... (step 1 of 3) Processing preprocessor, total=   0.0s\n",
      "[Pipeline] . (step 2 of 3) Processing feature selection, total= 1.4min\n",
      "[Pipeline] ........ (step 3 of 3) Processing classifier, total=   0.2s\n"
     ]
    },
    {
     "name": "stderr",
     "output_type": "stream",
     "text": [
      "C:\\ProgramData\\Anaconda3\\lib\\site-packages\\sklearn\\svm\\_base.py:1206: ConvergenceWarning: Liblinear failed to converge, increase the number of iterations.\n",
      "  warnings.warn(\n"
     ]
    },
    {
     "name": "stdout",
     "output_type": "stream",
     "text": [
      "[CV 4/5] END classifier__C=0.5, classifier__loss=squared_hinge, classifier__penalty=l1;, score=0.897 total time= 1.4min\n",
      "[Pipeline] ...... (step 1 of 3) Processing preprocessor, total=   0.0s\n",
      "[Pipeline] . (step 2 of 3) Processing feature selection, total= 1.4min\n"
     ]
    },
    {
     "name": "stderr",
     "output_type": "stream",
     "text": [
      "C:\\ProgramData\\Anaconda3\\lib\\site-packages\\sklearn\\svm\\_base.py:1206: ConvergenceWarning: Liblinear failed to converge, increase the number of iterations.\n",
      "  warnings.warn(\n"
     ]
    },
    {
     "name": "stdout",
     "output_type": "stream",
     "text": [
      "[Pipeline] ........ (step 3 of 3) Processing classifier, total=   0.3s\n",
      "[CV 5/5] END classifier__C=0.5, classifier__loss=squared_hinge, classifier__penalty=l1;, score=0.906 total time= 1.4min\n",
      "[Pipeline] ...... (step 1 of 3) Processing preprocessor, total=   0.0s\n",
      "[Pipeline] . (step 2 of 3) Processing feature selection, total= 1.4min\n",
      "[Pipeline] ........ (step 3 of 3) Processing classifier, total=   0.0s\n",
      "[CV 1/5] END classifier__C=0.5, classifier__loss=squared_hinge, classifier__penalty=l2;, score=0.901 total time= 1.4min\n",
      "[Pipeline] ...... (step 1 of 3) Processing preprocessor, total=   0.0s\n",
      "[Pipeline] . (step 2 of 3) Processing feature selection, total= 1.4min\n",
      "[Pipeline] ........ (step 3 of 3) Processing classifier, total=   0.0s\n",
      "[CV 2/5] END classifier__C=0.5, classifier__loss=squared_hinge, classifier__penalty=l2;, score=0.918 total time= 1.4min\n",
      "[Pipeline] ...... (step 1 of 3) Processing preprocessor, total=   0.0s\n",
      "[Pipeline] . (step 2 of 3) Processing feature selection, total= 1.4min\n",
      "[Pipeline] ........ (step 3 of 3) Processing classifier, total=   0.0s\n",
      "[CV 3/5] END classifier__C=0.5, classifier__loss=squared_hinge, classifier__penalty=l2;, score=0.900 total time= 1.4min\n",
      "[Pipeline] ...... (step 1 of 3) Processing preprocessor, total=   0.0s\n",
      "[Pipeline] . (step 2 of 3) Processing feature selection, total= 1.4min\n",
      "[Pipeline] ........ (step 3 of 3) Processing classifier, total=   0.0s\n",
      "[CV 4/5] END classifier__C=0.5, classifier__loss=squared_hinge, classifier__penalty=l2;, score=0.897 total time= 1.4min\n",
      "[Pipeline] ...... (step 1 of 3) Processing preprocessor, total=   0.0s\n",
      "[Pipeline] . (step 2 of 3) Processing feature selection, total= 1.4min\n",
      "[Pipeline] ........ (step 3 of 3) Processing classifier, total=   0.0s\n",
      "[CV 5/5] END classifier__C=0.5, classifier__loss=squared_hinge, classifier__penalty=l2;, score=0.905 total time= 1.4min\n",
      "[Pipeline] ...... (step 1 of 3) Processing preprocessor, total=   0.0s\n",
      "[Pipeline] . (step 2 of 3) Processing feature selection, total= 1.4min\n",
      "[CV 1/5] END classifier__C=1, classifier__loss=hinge, classifier__penalty=l1;, score=nan total time= 1.4min\n",
      "[Pipeline] ...... (step 1 of 3) Processing preprocessor, total=   0.0s\n",
      "[Pipeline] . (step 2 of 3) Processing feature selection, total= 1.4min\n",
      "[CV 2/5] END classifier__C=1, classifier__loss=hinge, classifier__penalty=l1;, score=nan total time= 1.4min\n",
      "[Pipeline] ...... (step 1 of 3) Processing preprocessor, total=   0.0s\n",
      "[Pipeline] . (step 2 of 3) Processing feature selection, total= 1.3min\n",
      "[CV 3/5] END classifier__C=1, classifier__loss=hinge, classifier__penalty=l1;, score=nan total time= 1.3min\n",
      "[Pipeline] ...... (step 1 of 3) Processing preprocessor, total=   0.0s\n",
      "[Pipeline] . (step 2 of 3) Processing feature selection, total= 1.4min\n",
      "[CV 4/5] END classifier__C=1, classifier__loss=hinge, classifier__penalty=l1;, score=nan total time= 1.4min\n",
      "[Pipeline] ...... (step 1 of 3) Processing preprocessor, total=   0.0s\n",
      "[Pipeline] . (step 2 of 3) Processing feature selection, total= 1.5min\n",
      "[CV 5/5] END classifier__C=1, classifier__loss=hinge, classifier__penalty=l1;, score=nan total time= 1.5min\n",
      "[Pipeline] ...... (step 1 of 3) Processing preprocessor, total=   0.0s\n",
      "[Pipeline] . (step 2 of 3) Processing feature selection, total= 1.4min\n",
      "[CV 1/5] END classifier__C=1, classifier__loss=hinge, classifier__penalty=l2;, score=nan total time= 1.4min\n",
      "[Pipeline] ...... (step 1 of 3) Processing preprocessor, total=   0.0s\n",
      "[Pipeline] . (step 2 of 3) Processing feature selection, total= 1.3min\n",
      "[CV 2/5] END classifier__C=1, classifier__loss=hinge, classifier__penalty=l2;, score=nan total time= 1.3min\n",
      "[Pipeline] ...... (step 1 of 3) Processing preprocessor, total=   0.0s\n",
      "[Pipeline] . (step 2 of 3) Processing feature selection, total= 1.3min\n",
      "[CV 3/5] END classifier__C=1, classifier__loss=hinge, classifier__penalty=l2;, score=nan total time= 1.3min\n",
      "[Pipeline] ...... (step 1 of 3) Processing preprocessor, total=   0.0s\n",
      "[Pipeline] . (step 2 of 3) Processing feature selection, total= 1.4min\n",
      "[CV 4/5] END classifier__C=1, classifier__loss=hinge, classifier__penalty=l2;, score=nan total time= 1.4min\n",
      "[Pipeline] ...... (step 1 of 3) Processing preprocessor, total=   0.0s\n",
      "[Pipeline] . (step 2 of 3) Processing feature selection, total= 1.4min\n",
      "[CV 5/5] END classifier__C=1, classifier__loss=hinge, classifier__penalty=l2;, score=nan total time= 1.4min\n",
      "[Pipeline] ...... (step 1 of 3) Processing preprocessor, total=   0.0s\n",
      "[Pipeline] . (step 2 of 3) Processing feature selection, total= 1.3min\n",
      "[Pipeline] ........ (step 3 of 3) Processing classifier, total=   0.1s\n",
      "[CV 1/5] END classifier__C=1, classifier__loss=squared_hinge, classifier__penalty=l1;, score=0.901 total time= 1.3min\n",
      "[Pipeline] ...... (step 1 of 3) Processing preprocessor, total=   0.0s\n",
      "[Pipeline] . (step 2 of 3) Processing feature selection, total= 1.3min\n",
      "[Pipeline] ........ (step 3 of 3) Processing classifier, total=   0.0s\n",
      "[CV 2/5] END classifier__C=1, classifier__loss=squared_hinge, classifier__penalty=l1;, score=0.918 total time= 1.3min\n",
      "[Pipeline] ...... (step 1 of 3) Processing preprocessor, total=   0.0s\n",
      "[Pipeline] . (step 2 of 3) Processing feature selection, total= 1.3min\n"
     ]
    },
    {
     "name": "stderr",
     "output_type": "stream",
     "text": [
      "C:\\ProgramData\\Anaconda3\\lib\\site-packages\\sklearn\\svm\\_base.py:1206: ConvergenceWarning: Liblinear failed to converge, increase the number of iterations.\n",
      "  warnings.warn(\n"
     ]
    },
    {
     "name": "stdout",
     "output_type": "stream",
     "text": [
      "[Pipeline] ........ (step 3 of 3) Processing classifier, total=   0.3s\n",
      "[CV 3/5] END classifier__C=1, classifier__loss=squared_hinge, classifier__penalty=l1;, score=0.900 total time= 1.3min\n",
      "[Pipeline] ...... (step 1 of 3) Processing preprocessor, total=   0.0s\n",
      "[Pipeline] . (step 2 of 3) Processing feature selection, total= 1.4min\n"
     ]
    },
    {
     "name": "stderr",
     "output_type": "stream",
     "text": [
      "C:\\ProgramData\\Anaconda3\\lib\\site-packages\\sklearn\\svm\\_base.py:1206: ConvergenceWarning: Liblinear failed to converge, increase the number of iterations.\n",
      "  warnings.warn(\n"
     ]
    },
    {
     "name": "stdout",
     "output_type": "stream",
     "text": [
      "[Pipeline] ........ (step 3 of 3) Processing classifier, total=   0.2s\n",
      "[CV 4/5] END classifier__C=1, classifier__loss=squared_hinge, classifier__penalty=l1;, score=0.897 total time= 1.4min\n",
      "[Pipeline] ...... (step 1 of 3) Processing preprocessor, total=   0.0s\n",
      "[Pipeline] . (step 2 of 3) Processing feature selection, total= 1.3min\n"
     ]
    },
    {
     "name": "stderr",
     "output_type": "stream",
     "text": [
      "C:\\ProgramData\\Anaconda3\\lib\\site-packages\\sklearn\\svm\\_base.py:1206: ConvergenceWarning: Liblinear failed to converge, increase the number of iterations.\n",
      "  warnings.warn(\n"
     ]
    },
    {
     "name": "stdout",
     "output_type": "stream",
     "text": [
      "[Pipeline] ........ (step 3 of 3) Processing classifier, total=   0.2s\n",
      "[CV 5/5] END classifier__C=1, classifier__loss=squared_hinge, classifier__penalty=l1;, score=0.905 total time= 1.4min\n",
      "[Pipeline] ...... (step 1 of 3) Processing preprocessor, total=   0.0s\n",
      "[Pipeline] . (step 2 of 3) Processing feature selection, total= 1.3min\n",
      "[Pipeline] ........ (step 3 of 3) Processing classifier, total=   0.0s\n",
      "[CV 1/5] END classifier__C=1, classifier__loss=squared_hinge, classifier__penalty=l2;, score=0.901 total time= 1.3min\n",
      "[Pipeline] ...... (step 1 of 3) Processing preprocessor, total=   0.0s\n",
      "[Pipeline] . (step 2 of 3) Processing feature selection, total= 1.3min\n",
      "[Pipeline] ........ (step 3 of 3) Processing classifier, total=   0.0s\n",
      "[CV 2/5] END classifier__C=1, classifier__loss=squared_hinge, classifier__penalty=l2;, score=0.918 total time= 1.3min\n",
      "[Pipeline] ...... (step 1 of 3) Processing preprocessor, total=   0.0s\n",
      "[Pipeline] . (step 2 of 3) Processing feature selection, total= 1.3min\n",
      "[Pipeline] ........ (step 3 of 3) Processing classifier, total=   0.0s\n",
      "[CV 3/5] END classifier__C=1, classifier__loss=squared_hinge, classifier__penalty=l2;, score=0.900 total time= 1.3min\n",
      "[Pipeline] ...... (step 1 of 3) Processing preprocessor, total=   0.0s\n",
      "[Pipeline] . (step 2 of 3) Processing feature selection, total= 1.4min\n",
      "[Pipeline] ........ (step 3 of 3) Processing classifier, total=   0.0s\n",
      "[CV 4/5] END classifier__C=1, classifier__loss=squared_hinge, classifier__penalty=l2;, score=0.897 total time= 1.4min\n",
      "[Pipeline] ...... (step 1 of 3) Processing preprocessor, total=   0.0s\n",
      "[Pipeline] . (step 2 of 3) Processing feature selection, total= 1.3min\n",
      "[Pipeline] ........ (step 3 of 3) Processing classifier, total=   0.0s\n",
      "[CV 5/5] END classifier__C=1, classifier__loss=squared_hinge, classifier__penalty=l2;, score=0.905 total time= 1.3min\n",
      "[Pipeline] ...... (step 1 of 3) Processing preprocessor, total=   0.0s\n",
      "[Pipeline] . (step 2 of 3) Processing feature selection, total= 1.3min\n",
      "[CV 1/5] END classifier__C=5, classifier__loss=hinge, classifier__penalty=l1;, score=nan total time= 1.3min\n",
      "[Pipeline] ...... (step 1 of 3) Processing preprocessor, total=   0.0s\n",
      "[Pipeline] . (step 2 of 3) Processing feature selection, total= 1.3min\n",
      "[CV 2/5] END classifier__C=5, classifier__loss=hinge, classifier__penalty=l1;, score=nan total time= 1.3min\n",
      "[Pipeline] ...... (step 1 of 3) Processing preprocessor, total=   0.0s\n",
      "[Pipeline] . (step 2 of 3) Processing feature selection, total= 1.3min\n",
      "[CV 3/5] END classifier__C=5, classifier__loss=hinge, classifier__penalty=l1;, score=nan total time= 1.3min\n",
      "[Pipeline] ...... (step 1 of 3) Processing preprocessor, total=   0.0s\n",
      "[Pipeline] . (step 2 of 3) Processing feature selection, total= 1.4min\n",
      "[CV 4/5] END classifier__C=5, classifier__loss=hinge, classifier__penalty=l1;, score=nan total time= 1.3min\n",
      "[Pipeline] ...... (step 1 of 3) Processing preprocessor, total=   0.0s\n",
      "[Pipeline] . (step 2 of 3) Processing feature selection, total= 1.3min\n",
      "[CV 5/5] END classifier__C=5, classifier__loss=hinge, classifier__penalty=l1;, score=nan total time= 1.3min\n",
      "[Pipeline] ...... (step 1 of 3) Processing preprocessor, total=   0.0s\n",
      "[Pipeline] . (step 2 of 3) Processing feature selection, total= 1.3min\n",
      "[CV 1/5] END classifier__C=5, classifier__loss=hinge, classifier__penalty=l2;, score=nan total time= 1.3min\n",
      "[Pipeline] ...... (step 1 of 3) Processing preprocessor, total=   0.0s\n",
      "[Pipeline] . (step 2 of 3) Processing feature selection, total= 1.3min\n",
      "[CV 2/5] END classifier__C=5, classifier__loss=hinge, classifier__penalty=l2;, score=nan total time= 1.3min\n",
      "[Pipeline] ...... (step 1 of 3) Processing preprocessor, total=   0.0s\n",
      "[Pipeline] . (step 2 of 3) Processing feature selection, total= 1.3min\n",
      "[CV 3/5] END classifier__C=5, classifier__loss=hinge, classifier__penalty=l2;, score=nan total time= 1.3min\n",
      "[Pipeline] ...... (step 1 of 3) Processing preprocessor, total=   0.0s\n",
      "[Pipeline] . (step 2 of 3) Processing feature selection, total= 1.3min\n",
      "[CV 4/5] END classifier__C=5, classifier__loss=hinge, classifier__penalty=l2;, score=nan total time= 1.3min\n",
      "[Pipeline] ...... (step 1 of 3) Processing preprocessor, total=   0.0s\n",
      "[Pipeline] . (step 2 of 3) Processing feature selection, total= 1.3min\n",
      "[CV 5/5] END classifier__C=5, classifier__loss=hinge, classifier__penalty=l2;, score=nan total time= 1.3min\n",
      "[Pipeline] ...... (step 1 of 3) Processing preprocessor, total=   0.0s\n",
      "[Pipeline] . (step 2 of 3) Processing feature selection, total= 1.3min\n",
      "[Pipeline] ........ (step 3 of 3) Processing classifier, total=   0.1s\n",
      "[CV 1/5] END classifier__C=5, classifier__loss=squared_hinge, classifier__penalty=l1;, score=0.901 total time= 1.3min\n",
      "[Pipeline] ...... (step 1 of 3) Processing preprocessor, total=   0.0s\n",
      "[Pipeline] . (step 2 of 3) Processing feature selection, total= 1.3min\n",
      "[Pipeline] ........ (step 3 of 3) Processing classifier, total=   0.0s\n",
      "[CV 2/5] END classifier__C=5, classifier__loss=squared_hinge, classifier__penalty=l1;, score=0.918 total time= 1.3min\n",
      "[Pipeline] ...... (step 1 of 3) Processing preprocessor, total=   0.0s\n",
      "[Pipeline] . (step 2 of 3) Processing feature selection, total= 1.3min\n",
      "[Pipeline] ........ (step 3 of 3) Processing classifier, total=   0.0s\n",
      "[CV 3/5] END classifier__C=5, classifier__loss=squared_hinge, classifier__penalty=l1;, score=0.900 total time= 1.3min\n",
      "[Pipeline] ...... (step 1 of 3) Processing preprocessor, total=   0.0s\n",
      "[Pipeline] . (step 2 of 3) Processing feature selection, total= 1.4min\n",
      "[Pipeline] ........ (step 3 of 3) Processing classifier, total=   0.1s\n",
      "[CV 4/5] END classifier__C=5, classifier__loss=squared_hinge, classifier__penalty=l1;, score=0.897 total time= 1.4min\n",
      "[Pipeline] ...... (step 1 of 3) Processing preprocessor, total=   0.0s\n",
      "[Pipeline] . (step 2 of 3) Processing feature selection, total= 1.4min\n",
      "[Pipeline] ........ (step 3 of 3) Processing classifier, total=   0.0s\n",
      "[CV 5/5] END classifier__C=5, classifier__loss=squared_hinge, classifier__penalty=l1;, score=0.905 total time= 1.4min\n",
      "[Pipeline] ...... (step 1 of 3) Processing preprocessor, total=   0.0s\n",
      "[Pipeline] . (step 2 of 3) Processing feature selection, total= 1.3min\n",
      "[Pipeline] ........ (step 3 of 3) Processing classifier, total=   0.0s\n",
      "[CV 1/5] END classifier__C=5, classifier__loss=squared_hinge, classifier__penalty=l2;, score=0.901 total time= 1.3min\n",
      "[Pipeline] ...... (step 1 of 3) Processing preprocessor, total=   0.0s\n",
      "[Pipeline] . (step 2 of 3) Processing feature selection, total= 1.3min\n",
      "[Pipeline] ........ (step 3 of 3) Processing classifier, total=   0.0s\n",
      "[CV 2/5] END classifier__C=5, classifier__loss=squared_hinge, classifier__penalty=l2;, score=0.918 total time= 1.3min\n",
      "[Pipeline] ...... (step 1 of 3) Processing preprocessor, total=   0.0s\n",
      "[Pipeline] . (step 2 of 3) Processing feature selection, total= 1.3min\n",
      "[Pipeline] ........ (step 3 of 3) Processing classifier, total=   0.0s\n",
      "[CV 3/5] END classifier__C=5, classifier__loss=squared_hinge, classifier__penalty=l2;, score=0.900 total time= 1.3min\n",
      "[Pipeline] ...... (step 1 of 3) Processing preprocessor, total=   0.0s\n",
      "[Pipeline] . (step 2 of 3) Processing feature selection, total= 1.4min\n",
      "[Pipeline] ........ (step 3 of 3) Processing classifier, total=   0.0s\n",
      "[CV 4/5] END classifier__C=5, classifier__loss=squared_hinge, classifier__penalty=l2;, score=0.897 total time= 1.4min\n",
      "[Pipeline] ...... (step 1 of 3) Processing preprocessor, total=   0.0s\n",
      "[Pipeline] . (step 2 of 3) Processing feature selection, total= 1.4min\n",
      "[Pipeline] ........ (step 3 of 3) Processing classifier, total=   0.0s\n",
      "[CV 5/5] END classifier__C=5, classifier__loss=squared_hinge, classifier__penalty=l2;, score=0.905 total time= 1.4min\n",
      "[Pipeline] ...... (step 1 of 3) Processing preprocessor, total=   0.0s\n"
     ]
    },
    {
     "name": "stderr",
     "output_type": "stream",
     "text": [
      "C:\\ProgramData\\Anaconda3\\lib\\site-packages\\sklearn\\model_selection\\_validation.py:372: FitFailedWarning: \n",
      "30 fits failed out of a total of 60.\n",
      "The score on these train-test partitions for these parameters will be set to nan.\n",
      "If these failures are not expected, you can try to debug them by setting error_score='raise'.\n",
      "\n",
      "Below are more details about the failures:\n",
      "--------------------------------------------------------------------------------\n",
      "15 fits failed with the following error:\n",
      "Traceback (most recent call last):\n",
      "  File \"C:\\ProgramData\\Anaconda3\\lib\\site-packages\\sklearn\\model_selection\\_validation.py\", line 680, in _fit_and_score\n",
      "    estimator.fit(X_train, y_train, **fit_params)\n",
      "  File \"C:\\ProgramData\\Anaconda3\\lib\\site-packages\\sklearn\\pipeline.py\", line 394, in fit\n",
      "    self._final_estimator.fit(Xt, y, **fit_params_last_step)\n",
      "  File \"C:\\ProgramData\\Anaconda3\\lib\\site-packages\\sklearn\\svm\\_classes.py\", line 257, in fit\n",
      "    self.coef_, self.intercept_, self.n_iter_ = _fit_liblinear(\n",
      "  File \"C:\\ProgramData\\Anaconda3\\lib\\site-packages\\sklearn\\svm\\_base.py\", line 1185, in _fit_liblinear\n",
      "    solver_type = _get_liblinear_solver_type(multi_class, penalty, loss, dual)\n",
      "  File \"C:\\ProgramData\\Anaconda3\\lib\\site-packages\\sklearn\\svm\\_base.py\", line 1024, in _get_liblinear_solver_type\n",
      "    raise ValueError(\n",
      "ValueError: Unsupported set of arguments: The combination of penalty='l1' and loss='hinge' is not supported, Parameters: penalty='l1', loss='hinge', dual=False\n",
      "\n",
      "--------------------------------------------------------------------------------\n",
      "15 fits failed with the following error:\n",
      "Traceback (most recent call last):\n",
      "  File \"C:\\ProgramData\\Anaconda3\\lib\\site-packages\\sklearn\\model_selection\\_validation.py\", line 680, in _fit_and_score\n",
      "    estimator.fit(X_train, y_train, **fit_params)\n",
      "  File \"C:\\ProgramData\\Anaconda3\\lib\\site-packages\\sklearn\\pipeline.py\", line 394, in fit\n",
      "    self._final_estimator.fit(Xt, y, **fit_params_last_step)\n",
      "  File \"C:\\ProgramData\\Anaconda3\\lib\\site-packages\\sklearn\\svm\\_classes.py\", line 257, in fit\n",
      "    self.coef_, self.intercept_, self.n_iter_ = _fit_liblinear(\n",
      "  File \"C:\\ProgramData\\Anaconda3\\lib\\site-packages\\sklearn\\svm\\_base.py\", line 1185, in _fit_liblinear\n",
      "    solver_type = _get_liblinear_solver_type(multi_class, penalty, loss, dual)\n",
      "  File \"C:\\ProgramData\\Anaconda3\\lib\\site-packages\\sklearn\\svm\\_base.py\", line 1024, in _get_liblinear_solver_type\n",
      "    raise ValueError(\n",
      "ValueError: Unsupported set of arguments: The combination of penalty='l2' and loss='hinge' are not supported when dual=False, Parameters: penalty='l2', loss='hinge', dual=False\n",
      "\n",
      "  warnings.warn(some_fits_failed_message, FitFailedWarning)\n",
      "C:\\ProgramData\\Anaconda3\\lib\\site-packages\\sklearn\\model_selection\\_search.py:969: UserWarning: One or more of the test scores are non-finite: [       nan        nan 0.90439436 0.90423569        nan        nan\n",
      " 0.90432523 0.90417842        nan        nan 0.9041251  0.90410208]\n",
      "  warnings.warn(\n"
     ]
    },
    {
     "name": "stdout",
     "output_type": "stream",
     "text": [
      "[Pipeline] . (step 2 of 3) Processing feature selection, total= 1.6min\n",
      "[Pipeline] ........ (step 3 of 3) Processing classifier, total=   0.3s\n"
     ]
    },
    {
     "name": "stderr",
     "output_type": "stream",
     "text": [
      "C:\\ProgramData\\Anaconda3\\lib\\site-packages\\sklearn\\svm\\_base.py:1206: ConvergenceWarning: Liblinear failed to converge, increase the number of iterations.\n",
      "  warnings.warn(\n"
     ]
    },
    {
     "data": {
      "text/plain": [
       "GridSearchCV(cv=StratifiedKFold(n_splits=5, random_state=42, shuffle=True),\n",
       "             estimator=Pipeline(steps=[('preprocessor',\n",
       "                                        ColumnTransformer(transformers=[('num',\n",
       "                                                                         StandardScaler(),\n",
       "                                                                         ['age',\n",
       "                                                                          'fnlwgt',\n",
       "                                                                          'education-num',\n",
       "                                                                          'capital-gain',\n",
       "                                                                          'capital-loss',\n",
       "                                                                          'hours-per-week']),\n",
       "                                                                        ('cat',\n",
       "                                                                         OneHotEncoder(handle_unknown='ignore'),\n",
       "                                                                         ['workclass',\n",
       "                                                                          'education',\n",
       "                                                                          'marital-status',\n",
       "                                                                          'occupation',\n",
       "                                                                          'relationship',\n",
       "                                                                          'race',\n",
       "                                                                          'sex'])])),\n",
       "                                       ('feature selection',\n",
       "                                        SequentialFeatureSelector(estimator=LinearSVC(dual=False,\n",
       "                                                                                      random_state=10),\n",
       "                                                                  scoring='roc_auc')),\n",
       "                                       ('classifier',\n",
       "                                        LinearSVC(dual=False,\n",
       "                                                  random_state=10))],\n",
       "                                verbose=True),\n",
       "             param_grid=[{'classifier__C': [0.5, 1, 5],\n",
       "                          'classifier__loss': ['hinge', 'squared_hinge'],\n",
       "                          'classifier__penalty': ['l1', 'l2']}],\n",
       "             scoring='roc_auc', verbose=3)"
      ]
     },
     "execution_count": 757,
     "metadata": {},
     "output_type": "execute_result"
    }
   ],
   "source": [
    "clf.fit(X_train, y_train)"
   ]
  },
  {
   "cell_type": "markdown",
   "id": "fbb06b53",
   "metadata": {},
   "source": [
    "Примечание: модель очень долго обучалась"
   ]
  },
  {
   "cell_type": "code",
   "execution_count": 769,
   "id": "fb623377",
   "metadata": {},
   "outputs": [
    {
     "data": {
      "text/plain": [
       "array([0, 0, 0, ..., 0, 1, 0], dtype=int64)"
      ]
     },
     "execution_count": 769,
     "metadata": {},
     "output_type": "execute_result"
    }
   ],
   "source": [
    "y_pred = clf.predict(X_test)"
   ]
  },
  {
   "cell_type": "code",
   "execution_count": null,
   "id": "c5250657",
   "metadata": {},
   "outputs": [],
   "source": [
    "# получим предсказанные вероятности для оценки ROC AUC\n",
    "y_pred_proba = clf.predict_proba(X_test)[:, 1]"
   ]
  },
  {
   "cell_type": "markdown",
   "id": "914dabef",
   "metadata": {},
   "source": [
    "### 10.\tОценить качество полученной модели."
   ]
  },
  {
   "cell_type": "code",
   "execution_count": 781,
   "id": "c5859904",
   "metadata": {},
   "outputs": [
    {
     "data": {
      "text/plain": [
       "{'classifier__C': 0.5,\n",
       " 'classifier__loss': 'squared_hinge',\n",
       " 'classifier__penalty': 'l1'}"
      ]
     },
     "execution_count": 781,
     "metadata": {},
     "output_type": "execute_result"
    }
   ],
   "source": [
    "clf.best_params_"
   ]
  },
  {
   "cell_type": "code",
   "execution_count": 782,
   "id": "2775b1ba",
   "metadata": {},
   "outputs": [
    {
     "data": {
      "text/plain": [
       "0.9043943629609517"
      ]
     },
     "execution_count": 782,
     "metadata": {},
     "output_type": "execute_result"
    }
   ],
   "source": [
    "clf.best_score_"
   ]
  },
  {
   "cell_type": "code",
   "execution_count": 784,
   "id": "5f198161",
   "metadata": {},
   "outputs": [],
   "source": [
    "pred_test = clf.best_estimator_.predict(X_test)"
   ]
  },
  {
   "cell_type": "code",
   "execution_count": 785,
   "id": "e9044d16",
   "metadata": {},
   "outputs": [
    {
     "name": "stdout",
     "output_type": "stream",
     "text": [
      "              precision    recall  f1-score   support\n",
      "\n",
      "           0       0.88      0.93      0.90     19754\n",
      "           1       0.72      0.58      0.64      6139\n",
      "\n",
      "    accuracy                           0.85     25893\n",
      "   macro avg       0.80      0.76      0.77     25893\n",
      "weighted avg       0.84      0.85      0.84     25893\n",
      "\n"
     ]
    }
   ],
   "source": [
    "print(classification_report(y_test, pred_test, labels = clf.classes_))"
   ]
  },
  {
   "cell_type": "code",
   "execution_count": 788,
   "id": "02c5eaa1",
   "metadata": {},
   "outputs": [
    {
     "name": "stdout",
     "output_type": "stream",
     "text": [
      "Confusion Matrix:\n",
      " [[18378  1376]\n",
      " [ 2570  3569]]\n"
     ]
    }
   ],
   "source": [
    "from sklearn.metrics import confusion_matrix\n",
    "# сделаем матрицу ошибок\n",
    "print(\"Confusion Matrix:\\n\", confusion_matrix(y_test, y_pred))"
   ]
  },
  {
   "cell_type": "markdown",
   "id": "0a826daf",
   "metadata": {},
   "source": [
    "### 11.\tОценить важность признаков. "
   ]
  },
  {
   "cell_type": "code",
   "execution_count": 790,
   "id": "b71af8ac",
   "metadata": {},
   "outputs": [],
   "source": [
    "bm = clf.best_estimator_"
   ]
  },
  {
   "cell_type": "code",
   "execution_count": 791,
   "id": "d2eb874f",
   "metadata": {},
   "outputs": [],
   "source": [
    "weights = bm.named_steps['classifier'].coef_.round(2)[0]"
   ]
  },
  {
   "cell_type": "code",
   "execution_count": 792,
   "id": "41474ad4",
   "metadata": {},
   "outputs": [],
   "source": [
    "features = bm.named_steps['preprocessor'].get_feature_names_out()"
   ]
  },
  {
   "cell_type": "code",
   "execution_count": 795,
   "id": "161bb1c7",
   "metadata": {},
   "outputs": [],
   "source": [
    "feature_importance = pd.Series({k: v for k, v in zip(features , weights)})"
   ]
  },
  {
   "cell_type": "code",
   "execution_count": 797,
   "id": "211b10c1",
   "metadata": {},
   "outputs": [
    {
     "data": {
      "text/plain": [
       "num__age                                  0.13\n",
       "num__fnlwgt                               0.04\n",
       "num__education-num                        0.23\n",
       "num__capital-gain                         0.33\n",
       "num__capital-loss                         0.10\n",
       "num__hours-per-week                       0.14\n",
       "cat__workclass_ ?                         0.00\n",
       "cat__workclass_ Federal-gov               0.17\n",
       "cat__workclass_ Local-gov                -0.18\n",
       "cat__workclass_ Never-worked             -0.17\n",
       "cat__workclass_ Private                   0.24\n",
       "cat__workclass_ Self-emp-inc             -0.16\n",
       "cat__workclass_ Self-emp-not-inc         -0.16\n",
       "cat__workclass_ State-gov                 0.27\n",
       "cat__workclass_ Without-pay               0.24\n",
       "cat__education_ 10th                      0.00\n",
       "cat__education_ 11th                      0.61\n",
       "cat__education_ 12th                      0.00\n",
       "cat__education_ 1st-4th                  -0.07\n",
       "cat__education_ 5th-6th                  -0.32\n",
       "cat__education_ 7th-8th                  -0.07\n",
       "cat__education_ 9th                       0.16\n",
       "cat__education_ Assoc-acdm               -0.39\n",
       "cat__education_ Assoc-voc                -0.31\n",
       "cat__education_ Bachelors                -0.19\n",
       "cat__education_ Doctorate                -0.47\n",
       "cat__education_ HS-grad                  -0.24\n",
       "cat__education_ Masters                   0.11\n",
       "cat__education_ Preschool                -0.19\n",
       "cat__education_ Prof-school              -0.18\n",
       "cat__education_ Some-college              0.40\n",
       "cat__marital-status_ Divorced            -0.56\n",
       "cat__marital-status_ Married-AF-spouse   -0.34\n",
       "dtype: float64"
      ]
     },
     "execution_count": 797,
     "metadata": {},
     "output_type": "execute_result"
    }
   ],
   "source": [
    "feature_importance"
   ]
  }
 ],
 "metadata": {
  "kernelspec": {
   "display_name": "Python 3 (ipykernel)",
   "language": "python",
   "name": "python3"
  },
  "language_info": {
   "codemirror_mode": {
    "name": "ipython",
    "version": 3
   },
   "file_extension": ".py",
   "mimetype": "text/x-python",
   "name": "python",
   "nbconvert_exporter": "python",
   "pygments_lexer": "ipython3",
   "version": "3.9.13"
  }
 },
 "nbformat": 4,
 "nbformat_minor": 5
}
